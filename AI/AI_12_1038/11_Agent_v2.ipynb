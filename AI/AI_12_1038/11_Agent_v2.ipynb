{
  "cells": [
    {
      "cell_type": "markdown",
      "id": "08b6aa59",
      "metadata": {
        "id": "08b6aa59"
      },
      "source": [
        "# 4-2. LangChain Agent 만들기: RAG와 도구(Tools)의 결합\n",
        "**실습 개요 및 시나리오**\n",
        "\n",
        "이번 실습의 목표는 단순한 챗봇이 아닌, **'생각(Reason)'** 하고 **'행동(Act)'** 할 수 있는 AI 고객센터 직원을 만드는 것입니다.\n",
        "\n",
        "**지난 시간 (`4-1_RAG.ipynb`) 복습:** 우리는 `shipping_policy.txt`와 같은 '비정형 데이터(PDF, TXT)'를 Vector Store에 저장하고, '검색(Retrieve)'을 통해 LLM이 문서에 근거한 답변을 하도록 **RAG 파이프라인**을 구축했습니다.\n",
        "\n",
        "**이번 시간 (`4-2_Agent.ipynb`) 시나리오:** 고객센터 AI는 RAG(문서 검색)만으로는 모든 일을 처리할 수 없습니다. \"내 주문 배송 상태 좀 알려줘\"와 같은 요청은 '구조화된 데이터(DB)'를 조회해야 합니다.\n",
        "\n",
        "1. **환경 설정:**\n",
        "    - Agent가 사용할 실제 데이터베이스(`orders.db`)를 `sqlite3`로 만듭니다.\n",
        "    - (참고: SQL 문법이 조금 나오지만, Agent가 실제 DB와 연동하는 것을 보여주기 위함입니다. 본과정 DB 파트에서 자세히 다룰 예정입니다.)\n",
        "\n",
        "2. **도구(Tools) 준비:**\n",
        "    - (Tool 1) 지난 시간에 만든 RAG 파이프라인을 Agent가 쓸 수 있는 '정책 검색 도구'로 포장합니다.\n",
        "    - (Tool 2) `orders.db`를 조회하는 '주문 상태 확인 도구'를 만듭니다.\n",
        "    - (Tool 3) 배송 지연 시 '쿠폰 발급 도구'를 만듭니다. (DB 조회 + 쿠폰 발급은 하드코딩)\n",
        "\n",
        "3. **ReAct Agent 생성:**\n",
        "    - LLM(두뇌)에 1, 2, 3번 도구(손/발)를 장착시키고, '시스템 프롬프트(규칙)'를 부여하여 Agent를 완성합니다.\n",
        "\n",
        "4. **Agent 테스트 (T-A-O 로그):**\n",
        "    - Agent가 사용자의 요청을 받고, 스스로 `'생각(Thought) -> 도구 선택(Action) -> 결과 관찰(Observation)'`을 반복하며 작업을 완료하는 **ReAct 사이클** 을 실시간 스트리밍으로 관찰합니다. (이 부분이 오늘 수업에서 가장 흥미로운 지점)\n",
        "\n",
        "5. **(Extra) 대화 메모리 추가:**\n",
        "    - 방금 나눈 대화를 기억하게 만들어, \"방금 말한 그 주문\"이 무엇인지 알아듣게 만듭니다. (`langgraph-checkpoint-sqlite` 활용)"
      ]
    },
    {
      "cell_type": "markdown",
      "id": "c574d524",
      "metadata": {
        "id": "c574d524"
      },
      "source": [
        "## 0. 환경 설정\n",
        "\n",
        "### 0-1. 라이브러리 설치\n",
        "\n",
        "- RAG 파이프라인과 Agent 구현에 필요한 라이브러리를 설치합니다.\n",
        "- LangChain은 1.0 버전 이후로 여러 패키지로 분리되었습니다. (core, community, upstage 등)"
      ]
    },
    {
      "cell_type": "code",
      "execution_count": null,
      "id": "b6e4e409",
      "metadata": {
        "colab": {
          "base_uri": "https://localhost:8080/"
        },
        "collapsed": true,
        "id": "b6e4e409",
        "outputId": "35079421-28e3-41ef-c93a-b99b79bd96f9"
      },
      "outputs": [
        {
          "output_type": "stream",
          "name": "stdout",
          "text": [
            "Requirement already satisfied: langchain in /usr/local/lib/python3.12/dist-packages (1.0.2)\n",
            "Requirement already satisfied: langchain-core<2.0.0,>=1.0.0 in /usr/local/lib/python3.12/dist-packages (from langchain) (1.0.1)\n",
            "Requirement already satisfied: langgraph<1.1.0,>=1.0.0 in /usr/local/lib/python3.12/dist-packages (from langchain) (1.0.1)\n",
            "Requirement already satisfied: pydantic<3.0.0,>=2.7.4 in /usr/local/lib/python3.12/dist-packages (from langchain) (2.11.10)\n",
            "Requirement already satisfied: jsonpatch<2.0.0,>=1.33.0 in /usr/local/lib/python3.12/dist-packages (from langchain-core<2.0.0,>=1.0.0->langchain) (1.33)\n",
            "Requirement already satisfied: langsmith<1.0.0,>=0.3.45 in /usr/local/lib/python3.12/dist-packages (from langchain-core<2.0.0,>=1.0.0->langchain) (0.4.37)\n",
            "Requirement already satisfied: packaging<26.0.0,>=23.2.0 in /usr/local/lib/python3.12/dist-packages (from langchain-core<2.0.0,>=1.0.0->langchain) (25.0)\n",
            "Requirement already satisfied: pyyaml<7.0.0,>=5.3.0 in /usr/local/lib/python3.12/dist-packages (from langchain-core<2.0.0,>=1.0.0->langchain) (6.0.3)\n",
            "Requirement already satisfied: tenacity!=8.4.0,<10.0.0,>=8.1.0 in /usr/local/lib/python3.12/dist-packages (from langchain-core<2.0.0,>=1.0.0->langchain) (8.5.0)\n",
            "Requirement already satisfied: typing-extensions<5.0.0,>=4.7.0 in /usr/local/lib/python3.12/dist-packages (from langchain-core<2.0.0,>=1.0.0->langchain) (4.15.0)\n",
            "Requirement already satisfied: langgraph-checkpoint<4.0.0,>=2.1.0 in /usr/local/lib/python3.12/dist-packages (from langgraph<1.1.0,>=1.0.0->langchain) (3.0.0)\n",
            "Requirement already satisfied: langgraph-prebuilt<1.1.0,>=1.0.0 in /usr/local/lib/python3.12/dist-packages (from langgraph<1.1.0,>=1.0.0->langchain) (1.0.1)\n",
            "Requirement already satisfied: langgraph-sdk<0.3.0,>=0.2.2 in /usr/local/lib/python3.12/dist-packages (from langgraph<1.1.0,>=1.0.0->langchain) (0.2.9)\n",
            "Requirement already satisfied: xxhash>=3.5.0 in /usr/local/lib/python3.12/dist-packages (from langgraph<1.1.0,>=1.0.0->langchain) (3.6.0)\n",
            "Requirement already satisfied: annotated-types>=0.6.0 in /usr/local/lib/python3.12/dist-packages (from pydantic<3.0.0,>=2.7.4->langchain) (0.7.0)\n",
            "Requirement already satisfied: pydantic-core==2.33.2 in /usr/local/lib/python3.12/dist-packages (from pydantic<3.0.0,>=2.7.4->langchain) (2.33.2)\n",
            "Requirement already satisfied: typing-inspection>=0.4.0 in /usr/local/lib/python3.12/dist-packages (from pydantic<3.0.0,>=2.7.4->langchain) (0.4.2)\n",
            "Requirement already satisfied: jsonpointer>=1.9 in /usr/local/lib/python3.12/dist-packages (from jsonpatch<2.0.0,>=1.33.0->langchain-core<2.0.0,>=1.0.0->langchain) (3.0.0)\n",
            "Requirement already satisfied: ormsgpack>=1.10.0 in /usr/local/lib/python3.12/dist-packages (from langgraph-checkpoint<4.0.0,>=2.1.0->langgraph<1.1.0,>=1.0.0->langchain) (1.11.0)\n",
            "Requirement already satisfied: httpx>=0.25.2 in /usr/local/lib/python3.12/dist-packages (from langgraph-sdk<0.3.0,>=0.2.2->langgraph<1.1.0,>=1.0.0->langchain) (0.28.1)\n",
            "Requirement already satisfied: orjson>=3.10.1 in /usr/local/lib/python3.12/dist-packages (from langgraph-sdk<0.3.0,>=0.2.2->langgraph<1.1.0,>=1.0.0->langchain) (3.11.3)\n",
            "Requirement already satisfied: requests-toolbelt>=1.0.0 in /usr/local/lib/python3.12/dist-packages (from langsmith<1.0.0,>=0.3.45->langchain-core<2.0.0,>=1.0.0->langchain) (1.0.0)\n",
            "Requirement already satisfied: requests>=2.0.0 in /usr/local/lib/python3.12/dist-packages (from langsmith<1.0.0,>=0.3.45->langchain-core<2.0.0,>=1.0.0->langchain) (2.32.5)\n",
            "Requirement already satisfied: zstandard>=0.23.0 in /usr/local/lib/python3.12/dist-packages (from langsmith<1.0.0,>=0.3.45->langchain-core<2.0.0,>=1.0.0->langchain) (0.25.0)\n",
            "Requirement already satisfied: anyio in /usr/local/lib/python3.12/dist-packages (from httpx>=0.25.2->langgraph-sdk<0.3.0,>=0.2.2->langgraph<1.1.0,>=1.0.0->langchain) (4.11.0)\n",
            "Requirement already satisfied: certifi in /usr/local/lib/python3.12/dist-packages (from httpx>=0.25.2->langgraph-sdk<0.3.0,>=0.2.2->langgraph<1.1.0,>=1.0.0->langchain) (2025.10.5)\n",
            "Requirement already satisfied: httpcore==1.* in /usr/local/lib/python3.12/dist-packages (from httpx>=0.25.2->langgraph-sdk<0.3.0,>=0.2.2->langgraph<1.1.0,>=1.0.0->langchain) (1.0.9)\n",
            "Requirement already satisfied: idna in /usr/local/lib/python3.12/dist-packages (from httpx>=0.25.2->langgraph-sdk<0.3.0,>=0.2.2->langgraph<1.1.0,>=1.0.0->langchain) (3.11)\n",
            "Requirement already satisfied: h11>=0.16 in /usr/local/lib/python3.12/dist-packages (from httpcore==1.*->httpx>=0.25.2->langgraph-sdk<0.3.0,>=0.2.2->langgraph<1.1.0,>=1.0.0->langchain) (0.16.0)\n",
            "Requirement already satisfied: charset_normalizer<4,>=2 in /usr/local/lib/python3.12/dist-packages (from requests>=2.0.0->langsmith<1.0.0,>=0.3.45->langchain-core<2.0.0,>=1.0.0->langchain) (3.4.4)\n",
            "Requirement already satisfied: urllib3<3,>=1.21.1 in /usr/local/lib/python3.12/dist-packages (from requests>=2.0.0->langsmith<1.0.0,>=0.3.45->langchain-core<2.0.0,>=1.0.0->langchain) (2.3.0)\n",
            "Requirement already satisfied: sniffio>=1.1 in /usr/local/lib/python3.12/dist-packages (from anyio->httpx>=0.25.2->langgraph-sdk<0.3.0,>=0.2.2->langgraph<1.1.0,>=1.0.0->langchain) (1.3.1)\n",
            "Requirement already satisfied: langchain-core in /usr/local/lib/python3.12/dist-packages (1.0.1)\n",
            "Requirement already satisfied: jsonpatch<2.0.0,>=1.33.0 in /usr/local/lib/python3.12/dist-packages (from langchain-core) (1.33)\n",
            "Requirement already satisfied: langsmith<1.0.0,>=0.3.45 in /usr/local/lib/python3.12/dist-packages (from langchain-core) (0.4.37)\n",
            "Requirement already satisfied: packaging<26.0.0,>=23.2.0 in /usr/local/lib/python3.12/dist-packages (from langchain-core) (25.0)\n",
            "Requirement already satisfied: pydantic<3.0.0,>=2.7.4 in /usr/local/lib/python3.12/dist-packages (from langchain-core) (2.11.10)\n",
            "Requirement already satisfied: pyyaml<7.0.0,>=5.3.0 in /usr/local/lib/python3.12/dist-packages (from langchain-core) (6.0.3)\n",
            "Requirement already satisfied: tenacity!=8.4.0,<10.0.0,>=8.1.0 in /usr/local/lib/python3.12/dist-packages (from langchain-core) (8.5.0)\n",
            "Requirement already satisfied: typing-extensions<5.0.0,>=4.7.0 in /usr/local/lib/python3.12/dist-packages (from langchain-core) (4.15.0)\n",
            "Requirement already satisfied: jsonpointer>=1.9 in /usr/local/lib/python3.12/dist-packages (from jsonpatch<2.0.0,>=1.33.0->langchain-core) (3.0.0)\n",
            "Requirement already satisfied: httpx<1,>=0.23.0 in /usr/local/lib/python3.12/dist-packages (from langsmith<1.0.0,>=0.3.45->langchain-core) (0.28.1)\n",
            "Requirement already satisfied: orjson>=3.9.14 in /usr/local/lib/python3.12/dist-packages (from langsmith<1.0.0,>=0.3.45->langchain-core) (3.11.3)\n",
            "Requirement already satisfied: requests-toolbelt>=1.0.0 in /usr/local/lib/python3.12/dist-packages (from langsmith<1.0.0,>=0.3.45->langchain-core) (1.0.0)\n",
            "Requirement already satisfied: requests>=2.0.0 in /usr/local/lib/python3.12/dist-packages (from langsmith<1.0.0,>=0.3.45->langchain-core) (2.32.5)\n",
            "Requirement already satisfied: zstandard>=0.23.0 in /usr/local/lib/python3.12/dist-packages (from langsmith<1.0.0,>=0.3.45->langchain-core) (0.25.0)\n",
            "Requirement already satisfied: annotated-types>=0.6.0 in /usr/local/lib/python3.12/dist-packages (from pydantic<3.0.0,>=2.7.4->langchain-core) (0.7.0)\n",
            "Requirement already satisfied: pydantic-core==2.33.2 in /usr/local/lib/python3.12/dist-packages (from pydantic<3.0.0,>=2.7.4->langchain-core) (2.33.2)\n",
            "Requirement already satisfied: typing-inspection>=0.4.0 in /usr/local/lib/python3.12/dist-packages (from pydantic<3.0.0,>=2.7.4->langchain-core) (0.4.2)\n",
            "Requirement already satisfied: anyio in /usr/local/lib/python3.12/dist-packages (from httpx<1,>=0.23.0->langsmith<1.0.0,>=0.3.45->langchain-core) (4.11.0)\n",
            "Requirement already satisfied: certifi in /usr/local/lib/python3.12/dist-packages (from httpx<1,>=0.23.0->langsmith<1.0.0,>=0.3.45->langchain-core) (2025.10.5)\n",
            "Requirement already satisfied: httpcore==1.* in /usr/local/lib/python3.12/dist-packages (from httpx<1,>=0.23.0->langsmith<1.0.0,>=0.3.45->langchain-core) (1.0.9)\n",
            "Requirement already satisfied: idna in /usr/local/lib/python3.12/dist-packages (from httpx<1,>=0.23.0->langsmith<1.0.0,>=0.3.45->langchain-core) (3.11)\n",
            "Requirement already satisfied: h11>=0.16 in /usr/local/lib/python3.12/dist-packages (from httpcore==1.*->httpx<1,>=0.23.0->langsmith<1.0.0,>=0.3.45->langchain-core) (0.16.0)\n",
            "Requirement already satisfied: charset_normalizer<4,>=2 in /usr/local/lib/python3.12/dist-packages (from requests>=2.0.0->langsmith<1.0.0,>=0.3.45->langchain-core) (3.4.4)\n",
            "Requirement already satisfied: urllib3<3,>=1.21.1 in /usr/local/lib/python3.12/dist-packages (from requests>=2.0.0->langsmith<1.0.0,>=0.3.45->langchain-core) (2.3.0)\n",
            "Requirement already satisfied: sniffio>=1.1 in /usr/local/lib/python3.12/dist-packages (from anyio->httpx<1,>=0.23.0->langsmith<1.0.0,>=0.3.45->langchain-core) (1.3.1)\n",
            "Requirement already satisfied: langchain-community in /usr/local/lib/python3.12/dist-packages (0.4.1)\n",
            "Requirement already satisfied: langchain-core<2.0.0,>=1.0.1 in /usr/local/lib/python3.12/dist-packages (from langchain-community) (1.0.1)\n",
            "Requirement already satisfied: langchain-classic<2.0.0,>=1.0.0 in /usr/local/lib/python3.12/dist-packages (from langchain-community) (1.0.0)\n",
            "Requirement already satisfied: SQLAlchemy<3.0.0,>=1.4.0 in /usr/local/lib/python3.12/dist-packages (from langchain-community) (2.0.44)\n",
            "Requirement already satisfied: requests<3.0.0,>=2.32.5 in /usr/local/lib/python3.12/dist-packages (from langchain-community) (2.32.5)\n",
            "Requirement already satisfied: PyYAML<7.0.0,>=5.3.0 in /usr/local/lib/python3.12/dist-packages (from langchain-community) (6.0.3)\n",
            "Requirement already satisfied: aiohttp<4.0.0,>=3.8.3 in /usr/local/lib/python3.12/dist-packages (from langchain-community) (3.13.1)\n",
            "Requirement already satisfied: tenacity!=8.4.0,<10.0.0,>=8.1.0 in /usr/local/lib/python3.12/dist-packages (from langchain-community) (8.5.0)\n",
            "Requirement already satisfied: dataclasses-json<0.7.0,>=0.6.7 in /usr/local/lib/python3.12/dist-packages (from langchain-community) (0.6.7)\n",
            "Requirement already satisfied: pydantic-settings<3.0.0,>=2.10.1 in /usr/local/lib/python3.12/dist-packages (from langchain-community) (2.11.0)\n",
            "Requirement already satisfied: langsmith<1.0.0,>=0.1.125 in /usr/local/lib/python3.12/dist-packages (from langchain-community) (0.4.37)\n",
            "Requirement already satisfied: httpx-sse<1.0.0,>=0.4.0 in /usr/local/lib/python3.12/dist-packages (from langchain-community) (0.4.3)\n",
            "Requirement already satisfied: numpy>=1.26.2 in /usr/local/lib/python3.12/dist-packages (from langchain-community) (2.0.2)\n",
            "Requirement already satisfied: aiohappyeyeballs>=2.5.0 in /usr/local/lib/python3.12/dist-packages (from aiohttp<4.0.0,>=3.8.3->langchain-community) (2.6.1)\n",
            "Requirement already satisfied: aiosignal>=1.4.0 in /usr/local/lib/python3.12/dist-packages (from aiohttp<4.0.0,>=3.8.3->langchain-community) (1.4.0)\n",
            "Requirement already satisfied: attrs>=17.3.0 in /usr/local/lib/python3.12/dist-packages (from aiohttp<4.0.0,>=3.8.3->langchain-community) (25.4.0)\n",
            "Requirement already satisfied: frozenlist>=1.1.1 in /usr/local/lib/python3.12/dist-packages (from aiohttp<4.0.0,>=3.8.3->langchain-community) (1.8.0)\n",
            "Requirement already satisfied: multidict<7.0,>=4.5 in /usr/local/lib/python3.12/dist-packages (from aiohttp<4.0.0,>=3.8.3->langchain-community) (6.7.0)\n",
            "Requirement already satisfied: propcache>=0.2.0 in /usr/local/lib/python3.12/dist-packages (from aiohttp<4.0.0,>=3.8.3->langchain-community) (0.4.1)\n",
            "Requirement already satisfied: yarl<2.0,>=1.17.0 in /usr/local/lib/python3.12/dist-packages (from aiohttp<4.0.0,>=3.8.3->langchain-community) (1.22.0)\n",
            "Requirement already satisfied: marshmallow<4.0.0,>=3.18.0 in /usr/local/lib/python3.12/dist-packages (from dataclasses-json<0.7.0,>=0.6.7->langchain-community) (3.26.1)\n",
            "Requirement already satisfied: typing-inspect<1,>=0.4.0 in /usr/local/lib/python3.12/dist-packages (from dataclasses-json<0.7.0,>=0.6.7->langchain-community) (0.9.0)\n",
            "Requirement already satisfied: langchain-text-splitters<2.0.0,>=1.0.0 in /usr/local/lib/python3.12/dist-packages (from langchain-classic<2.0.0,>=1.0.0->langchain-community) (1.0.0)\n",
            "Requirement already satisfied: pydantic<3.0.0,>=2.7.4 in /usr/local/lib/python3.12/dist-packages (from langchain-classic<2.0.0,>=1.0.0->langchain-community) (2.11.10)\n",
            "Requirement already satisfied: jsonpatch<2.0.0,>=1.33.0 in /usr/local/lib/python3.12/dist-packages (from langchain-core<2.0.0,>=1.0.1->langchain-community) (1.33)\n",
            "Requirement already satisfied: packaging<26.0.0,>=23.2.0 in /usr/local/lib/python3.12/dist-packages (from langchain-core<2.0.0,>=1.0.1->langchain-community) (25.0)\n",
            "Requirement already satisfied: typing-extensions<5.0.0,>=4.7.0 in /usr/local/lib/python3.12/dist-packages (from langchain-core<2.0.0,>=1.0.1->langchain-community) (4.15.0)\n",
            "Requirement already satisfied: httpx<1,>=0.23.0 in /usr/local/lib/python3.12/dist-packages (from langsmith<1.0.0,>=0.1.125->langchain-community) (0.28.1)\n",
            "Requirement already satisfied: orjson>=3.9.14 in /usr/local/lib/python3.12/dist-packages (from langsmith<1.0.0,>=0.1.125->langchain-community) (3.11.3)\n",
            "Requirement already satisfied: requests-toolbelt>=1.0.0 in /usr/local/lib/python3.12/dist-packages (from langsmith<1.0.0,>=0.1.125->langchain-community) (1.0.0)\n",
            "Requirement already satisfied: zstandard>=0.23.0 in /usr/local/lib/python3.12/dist-packages (from langsmith<1.0.0,>=0.1.125->langchain-community) (0.25.0)\n",
            "Requirement already satisfied: python-dotenv>=0.21.0 in /usr/local/lib/python3.12/dist-packages (from pydantic-settings<3.0.0,>=2.10.1->langchain-community) (1.1.1)\n",
            "Requirement already satisfied: typing-inspection>=0.4.0 in /usr/local/lib/python3.12/dist-packages (from pydantic-settings<3.0.0,>=2.10.1->langchain-community) (0.4.2)\n",
            "Requirement already satisfied: charset_normalizer<4,>=2 in /usr/local/lib/python3.12/dist-packages (from requests<3.0.0,>=2.32.5->langchain-community) (3.4.4)\n",
            "Requirement already satisfied: idna<4,>=2.5 in /usr/local/lib/python3.12/dist-packages (from requests<3.0.0,>=2.32.5->langchain-community) (3.11)\n",
            "Requirement already satisfied: urllib3<3,>=1.21.1 in /usr/local/lib/python3.12/dist-packages (from requests<3.0.0,>=2.32.5->langchain-community) (2.3.0)\n",
            "Requirement already satisfied: certifi>=2017.4.17 in /usr/local/lib/python3.12/dist-packages (from requests<3.0.0,>=2.32.5->langchain-community) (2025.10.5)\n",
            "Requirement already satisfied: greenlet>=1 in /usr/local/lib/python3.12/dist-packages (from SQLAlchemy<3.0.0,>=1.4.0->langchain-community) (3.2.4)\n",
            "Requirement already satisfied: anyio in /usr/local/lib/python3.12/dist-packages (from httpx<1,>=0.23.0->langsmith<1.0.0,>=0.1.125->langchain-community) (4.11.0)\n",
            "Requirement already satisfied: httpcore==1.* in /usr/local/lib/python3.12/dist-packages (from httpx<1,>=0.23.0->langsmith<1.0.0,>=0.1.125->langchain-community) (1.0.9)\n",
            "Requirement already satisfied: h11>=0.16 in /usr/local/lib/python3.12/dist-packages (from httpcore==1.*->httpx<1,>=0.23.0->langsmith<1.0.0,>=0.1.125->langchain-community) (0.16.0)\n",
            "Requirement already satisfied: jsonpointer>=1.9 in /usr/local/lib/python3.12/dist-packages (from jsonpatch<2.0.0,>=1.33.0->langchain-core<2.0.0,>=1.0.1->langchain-community) (3.0.0)\n",
            "Requirement already satisfied: annotated-types>=0.6.0 in /usr/local/lib/python3.12/dist-packages (from pydantic<3.0.0,>=2.7.4->langchain-classic<2.0.0,>=1.0.0->langchain-community) (0.7.0)\n",
            "Requirement already satisfied: pydantic-core==2.33.2 in /usr/local/lib/python3.12/dist-packages (from pydantic<3.0.0,>=2.7.4->langchain-classic<2.0.0,>=1.0.0->langchain-community) (2.33.2)\n",
            "Requirement already satisfied: mypy-extensions>=0.3.0 in /usr/local/lib/python3.12/dist-packages (from typing-inspect<1,>=0.4.0->dataclasses-json<0.7.0,>=0.6.7->langchain-community) (1.1.0)\n",
            "Requirement already satisfied: sniffio>=1.1 in /usr/local/lib/python3.12/dist-packages (from anyio->httpx<1,>=0.23.0->langsmith<1.0.0,>=0.1.125->langchain-community) (1.3.1)\n",
            "Requirement already satisfied: langchain-upstage in /usr/local/lib/python3.12/dist-packages (0.7.4)\n",
            "Collecting langchain-core<0.4.0,>=0.3.78 (from langchain-upstage)\n",
            "  Using cached langchain_core-0.3.79-py3-none-any.whl.metadata (3.2 kB)\n",
            "Requirement already satisfied: langchain-openai<0.4.0,>=0.3.34 in /usr/local/lib/python3.12/dist-packages (from langchain-upstage) (0.3.35)\n",
            "Requirement already satisfied: pypdf<5.0.0,>=4.2.0 in /usr/local/lib/python3.12/dist-packages (from langchain-upstage) (4.3.1)\n",
            "Requirement already satisfied: requests<3.0.0,>=2.31.0 in /usr/local/lib/python3.12/dist-packages (from langchain-upstage) (2.32.5)\n",
            "Requirement already satisfied: tokenizers<0.21.0,>=0.20.0 in /usr/local/lib/python3.12/dist-packages (from langchain-upstage) (0.20.3)\n",
            "Requirement already satisfied: langsmith<1.0.0,>=0.3.45 in /usr/local/lib/python3.12/dist-packages (from langchain-core<0.4.0,>=0.3.78->langchain-upstage) (0.4.37)\n",
            "Requirement already satisfied: tenacity!=8.4.0,<10.0.0,>=8.1.0 in /usr/local/lib/python3.12/dist-packages (from langchain-core<0.4.0,>=0.3.78->langchain-upstage) (8.5.0)\n",
            "Requirement already satisfied: jsonpatch<2.0.0,>=1.33.0 in /usr/local/lib/python3.12/dist-packages (from langchain-core<0.4.0,>=0.3.78->langchain-upstage) (1.33)\n",
            "Requirement already satisfied: PyYAML<7.0.0,>=5.3.0 in /usr/local/lib/python3.12/dist-packages (from langchain-core<0.4.0,>=0.3.78->langchain-upstage) (6.0.3)\n",
            "Requirement already satisfied: typing-extensions<5.0.0,>=4.7.0 in /usr/local/lib/python3.12/dist-packages (from langchain-core<0.4.0,>=0.3.78->langchain-upstage) (4.15.0)\n",
            "Requirement already satisfied: packaging<26.0.0,>=23.2.0 in /usr/local/lib/python3.12/dist-packages (from langchain-core<0.4.0,>=0.3.78->langchain-upstage) (25.0)\n",
            "Requirement already satisfied: pydantic<3.0.0,>=2.7.4 in /usr/local/lib/python3.12/dist-packages (from langchain-core<0.4.0,>=0.3.78->langchain-upstage) (2.11.10)\n",
            "Requirement already satisfied: openai<3.0.0,>=1.104.2 in /usr/local/lib/python3.12/dist-packages (from langchain-openai<0.4.0,>=0.3.34->langchain-upstage) (1.109.1)\n",
            "Requirement already satisfied: tiktoken<1.0.0,>=0.7.0 in /usr/local/lib/python3.12/dist-packages (from langchain-openai<0.4.0,>=0.3.34->langchain-upstage) (0.12.0)\n",
            "Requirement already satisfied: charset_normalizer<4,>=2 in /usr/local/lib/python3.12/dist-packages (from requests<3.0.0,>=2.31.0->langchain-upstage) (3.4.4)\n",
            "Requirement already satisfied: idna<4,>=2.5 in /usr/local/lib/python3.12/dist-packages (from requests<3.0.0,>=2.31.0->langchain-upstage) (3.11)\n",
            "Requirement already satisfied: urllib3<3,>=1.21.1 in /usr/local/lib/python3.12/dist-packages (from requests<3.0.0,>=2.31.0->langchain-upstage) (2.3.0)\n",
            "Requirement already satisfied: certifi>=2017.4.17 in /usr/local/lib/python3.12/dist-packages (from requests<3.0.0,>=2.31.0->langchain-upstage) (2025.10.5)\n",
            "Requirement already satisfied: huggingface-hub<1.0,>=0.16.4 in /usr/local/lib/python3.12/dist-packages (from tokenizers<0.21.0,>=0.20.0->langchain-upstage) (0.35.3)\n",
            "Requirement already satisfied: filelock in /usr/local/lib/python3.12/dist-packages (from huggingface-hub<1.0,>=0.16.4->tokenizers<0.21.0,>=0.20.0->langchain-upstage) (3.20.0)\n",
            "Requirement already satisfied: fsspec>=2023.5.0 in /usr/local/lib/python3.12/dist-packages (from huggingface-hub<1.0,>=0.16.4->tokenizers<0.21.0,>=0.20.0->langchain-upstage) (2025.3.0)\n",
            "Requirement already satisfied: tqdm>=4.42.1 in /usr/local/lib/python3.12/dist-packages (from huggingface-hub<1.0,>=0.16.4->tokenizers<0.21.0,>=0.20.0->langchain-upstage) (4.67.1)\n",
            "Requirement already satisfied: hf-xet<2.0.0,>=1.1.3 in /usr/local/lib/python3.12/dist-packages (from huggingface-hub<1.0,>=0.16.4->tokenizers<0.21.0,>=0.20.0->langchain-upstage) (1.1.10)\n",
            "Requirement already satisfied: jsonpointer>=1.9 in /usr/local/lib/python3.12/dist-packages (from jsonpatch<2.0.0,>=1.33.0->langchain-core<0.4.0,>=0.3.78->langchain-upstage) (3.0.0)\n",
            "Requirement already satisfied: httpx<1,>=0.23.0 in /usr/local/lib/python3.12/dist-packages (from langsmith<1.0.0,>=0.3.45->langchain-core<0.4.0,>=0.3.78->langchain-upstage) (0.28.1)\n",
            "Requirement already satisfied: orjson>=3.9.14 in /usr/local/lib/python3.12/dist-packages (from langsmith<1.0.0,>=0.3.45->langchain-core<0.4.0,>=0.3.78->langchain-upstage) (3.11.3)\n",
            "Requirement already satisfied: requests-toolbelt>=1.0.0 in /usr/local/lib/python3.12/dist-packages (from langsmith<1.0.0,>=0.3.45->langchain-core<0.4.0,>=0.3.78->langchain-upstage) (1.0.0)\n",
            "Requirement already satisfied: zstandard>=0.23.0 in /usr/local/lib/python3.12/dist-packages (from langsmith<1.0.0,>=0.3.45->langchain-core<0.4.0,>=0.3.78->langchain-upstage) (0.25.0)\n",
            "Requirement already satisfied: anyio<5,>=3.5.0 in /usr/local/lib/python3.12/dist-packages (from openai<3.0.0,>=1.104.2->langchain-openai<0.4.0,>=0.3.34->langchain-upstage) (4.11.0)\n",
            "Requirement already satisfied: distro<2,>=1.7.0 in /usr/local/lib/python3.12/dist-packages (from openai<3.0.0,>=1.104.2->langchain-openai<0.4.0,>=0.3.34->langchain-upstage) (1.9.0)\n",
            "Requirement already satisfied: jiter<1,>=0.4.0 in /usr/local/lib/python3.12/dist-packages (from openai<3.0.0,>=1.104.2->langchain-openai<0.4.0,>=0.3.34->langchain-upstage) (0.11.1)\n",
            "Requirement already satisfied: sniffio in /usr/local/lib/python3.12/dist-packages (from openai<3.0.0,>=1.104.2->langchain-openai<0.4.0,>=0.3.34->langchain-upstage) (1.3.1)\n",
            "Requirement already satisfied: annotated-types>=0.6.0 in /usr/local/lib/python3.12/dist-packages (from pydantic<3.0.0,>=2.7.4->langchain-core<0.4.0,>=0.3.78->langchain-upstage) (0.7.0)\n",
            "Requirement already satisfied: pydantic-core==2.33.2 in /usr/local/lib/python3.12/dist-packages (from pydantic<3.0.0,>=2.7.4->langchain-core<0.4.0,>=0.3.78->langchain-upstage) (2.33.2)\n",
            "Requirement already satisfied: typing-inspection>=0.4.0 in /usr/local/lib/python3.12/dist-packages (from pydantic<3.0.0,>=2.7.4->langchain-core<0.4.0,>=0.3.78->langchain-upstage) (0.4.2)\n",
            "Requirement already satisfied: regex>=2022.1.18 in /usr/local/lib/python3.12/dist-packages (from tiktoken<1.0.0,>=0.7.0->langchain-openai<0.4.0,>=0.3.34->langchain-upstage) (2024.11.6)\n",
            "Requirement already satisfied: httpcore==1.* in /usr/local/lib/python3.12/dist-packages (from httpx<1,>=0.23.0->langsmith<1.0.0,>=0.3.45->langchain-core<0.4.0,>=0.3.78->langchain-upstage) (1.0.9)\n",
            "Requirement already satisfied: h11>=0.16 in /usr/local/lib/python3.12/dist-packages (from httpcore==1.*->httpx<1,>=0.23.0->langsmith<1.0.0,>=0.3.45->langchain-core<0.4.0,>=0.3.78->langchain-upstage) (0.16.0)\n",
            "Using cached langchain_core-0.3.79-py3-none-any.whl (449 kB)\n",
            "Installing collected packages: langchain-core\n",
            "  Attempting uninstall: langchain-core\n",
            "    Found existing installation: langchain-core 1.0.1\n",
            "    Uninstalling langchain-core-1.0.1:\n",
            "      Successfully uninstalled langchain-core-1.0.1\n",
            "\u001b[31mERROR: pip's dependency resolver does not currently take into account all the packages that are installed. This behaviour is the source of the following dependency conflicts.\n",
            "langchain-classic 1.0.0 requires langchain-core<2.0.0,>=1.0.0, but you have langchain-core 0.3.79 which is incompatible.\n",
            "langchain-text-splitters 1.0.0 requires langchain-core<2.0.0,>=1.0.0, but you have langchain-core 0.3.79 which is incompatible.\n",
            "langchain-community 0.4.1 requires langchain-core<2.0.0,>=1.0.1, but you have langchain-core 0.3.79 which is incompatible.\n",
            "langchain 1.0.2 requires langchain-core<2.0.0,>=1.0.0, but you have langchain-core 0.3.79 which is incompatible.\u001b[0m\u001b[31m\n",
            "\u001b[0mSuccessfully installed langchain-core-0.3.79\n",
            "Requirement already satisfied: langchain-text-splitters in /usr/local/lib/python3.12/dist-packages (1.0.0)\n",
            "Collecting langchain-core<2.0.0,>=1.0.0 (from langchain-text-splitters)\n",
            "  Using cached langchain_core-1.0.1-py3-none-any.whl.metadata (3.5 kB)\n",
            "Requirement already satisfied: jsonpatch<2.0.0,>=1.33.0 in /usr/local/lib/python3.12/dist-packages (from langchain-core<2.0.0,>=1.0.0->langchain-text-splitters) (1.33)\n",
            "Requirement already satisfied: langsmith<1.0.0,>=0.3.45 in /usr/local/lib/python3.12/dist-packages (from langchain-core<2.0.0,>=1.0.0->langchain-text-splitters) (0.4.37)\n",
            "Requirement already satisfied: packaging<26.0.0,>=23.2.0 in /usr/local/lib/python3.12/dist-packages (from langchain-core<2.0.0,>=1.0.0->langchain-text-splitters) (25.0)\n",
            "Requirement already satisfied: pydantic<3.0.0,>=2.7.4 in /usr/local/lib/python3.12/dist-packages (from langchain-core<2.0.0,>=1.0.0->langchain-text-splitters) (2.11.10)\n",
            "Requirement already satisfied: pyyaml<7.0.0,>=5.3.0 in /usr/local/lib/python3.12/dist-packages (from langchain-core<2.0.0,>=1.0.0->langchain-text-splitters) (6.0.3)\n",
            "Requirement already satisfied: tenacity!=8.4.0,<10.0.0,>=8.1.0 in /usr/local/lib/python3.12/dist-packages (from langchain-core<2.0.0,>=1.0.0->langchain-text-splitters) (8.5.0)\n",
            "Requirement already satisfied: typing-extensions<5.0.0,>=4.7.0 in /usr/local/lib/python3.12/dist-packages (from langchain-core<2.0.0,>=1.0.0->langchain-text-splitters) (4.15.0)\n",
            "Requirement already satisfied: jsonpointer>=1.9 in /usr/local/lib/python3.12/dist-packages (from jsonpatch<2.0.0,>=1.33.0->langchain-core<2.0.0,>=1.0.0->langchain-text-splitters) (3.0.0)\n",
            "Requirement already satisfied: httpx<1,>=0.23.0 in /usr/local/lib/python3.12/dist-packages (from langsmith<1.0.0,>=0.3.45->langchain-core<2.0.0,>=1.0.0->langchain-text-splitters) (0.28.1)\n",
            "Requirement already satisfied: orjson>=3.9.14 in /usr/local/lib/python3.12/dist-packages (from langsmith<1.0.0,>=0.3.45->langchain-core<2.0.0,>=1.0.0->langchain-text-splitters) (3.11.3)\n",
            "Requirement already satisfied: requests-toolbelt>=1.0.0 in /usr/local/lib/python3.12/dist-packages (from langsmith<1.0.0,>=0.3.45->langchain-core<2.0.0,>=1.0.0->langchain-text-splitters) (1.0.0)\n",
            "Requirement already satisfied: requests>=2.0.0 in /usr/local/lib/python3.12/dist-packages (from langsmith<1.0.0,>=0.3.45->langchain-core<2.0.0,>=1.0.0->langchain-text-splitters) (2.32.5)\n",
            "Requirement already satisfied: zstandard>=0.23.0 in /usr/local/lib/python3.12/dist-packages (from langsmith<1.0.0,>=0.3.45->langchain-core<2.0.0,>=1.0.0->langchain-text-splitters) (0.25.0)\n",
            "Requirement already satisfied: annotated-types>=0.6.0 in /usr/local/lib/python3.12/dist-packages (from pydantic<3.0.0,>=2.7.4->langchain-core<2.0.0,>=1.0.0->langchain-text-splitters) (0.7.0)\n",
            "Requirement already satisfied: pydantic-core==2.33.2 in /usr/local/lib/python3.12/dist-packages (from pydantic<3.0.0,>=2.7.4->langchain-core<2.0.0,>=1.0.0->langchain-text-splitters) (2.33.2)\n",
            "Requirement already satisfied: typing-inspection>=0.4.0 in /usr/local/lib/python3.12/dist-packages (from pydantic<3.0.0,>=2.7.4->langchain-core<2.0.0,>=1.0.0->langchain-text-splitters) (0.4.2)\n",
            "Requirement already satisfied: anyio in /usr/local/lib/python3.12/dist-packages (from httpx<1,>=0.23.0->langsmith<1.0.0,>=0.3.45->langchain-core<2.0.0,>=1.0.0->langchain-text-splitters) (4.11.0)\n",
            "Requirement already satisfied: certifi in /usr/local/lib/python3.12/dist-packages (from httpx<1,>=0.23.0->langsmith<1.0.0,>=0.3.45->langchain-core<2.0.0,>=1.0.0->langchain-text-splitters) (2025.10.5)\n",
            "Requirement already satisfied: httpcore==1.* in /usr/local/lib/python3.12/dist-packages (from httpx<1,>=0.23.0->langsmith<1.0.0,>=0.3.45->langchain-core<2.0.0,>=1.0.0->langchain-text-splitters) (1.0.9)\n",
            "Requirement already satisfied: idna in /usr/local/lib/python3.12/dist-packages (from httpx<1,>=0.23.0->langsmith<1.0.0,>=0.3.45->langchain-core<2.0.0,>=1.0.0->langchain-text-splitters) (3.11)\n",
            "Requirement already satisfied: h11>=0.16 in /usr/local/lib/python3.12/dist-packages (from httpcore==1.*->httpx<1,>=0.23.0->langsmith<1.0.0,>=0.3.45->langchain-core<2.0.0,>=1.0.0->langchain-text-splitters) (0.16.0)\n",
            "Requirement already satisfied: charset_normalizer<4,>=2 in /usr/local/lib/python3.12/dist-packages (from requests>=2.0.0->langsmith<1.0.0,>=0.3.45->langchain-core<2.0.0,>=1.0.0->langchain-text-splitters) (3.4.4)\n",
            "Requirement already satisfied: urllib3<3,>=1.21.1 in /usr/local/lib/python3.12/dist-packages (from requests>=2.0.0->langsmith<1.0.0,>=0.3.45->langchain-core<2.0.0,>=1.0.0->langchain-text-splitters) (2.3.0)\n",
            "Requirement already satisfied: sniffio>=1.1 in /usr/local/lib/python3.12/dist-packages (from anyio->httpx<1,>=0.23.0->langsmith<1.0.0,>=0.3.45->langchain-core<2.0.0,>=1.0.0->langchain-text-splitters) (1.3.1)\n",
            "Using cached langchain_core-1.0.1-py3-none-any.whl (467 kB)\n",
            "Installing collected packages: langchain-core\n",
            "  Attempting uninstall: langchain-core\n",
            "    Found existing installation: langchain-core 0.3.79\n",
            "    Uninstalling langchain-core-0.3.79:\n",
            "      Successfully uninstalled langchain-core-0.3.79\n",
            "\u001b[31mERROR: pip's dependency resolver does not currently take into account all the packages that are installed. This behaviour is the source of the following dependency conflicts.\n",
            "langchain-upstage 0.7.4 requires langchain-core<0.4.0,>=0.3.78, but you have langchain-core 1.0.1 which is incompatible.\n",
            "langchain-openai 0.3.35 requires langchain-core<1.0.0,>=0.3.78, but you have langchain-core 1.0.1 which is incompatible.\u001b[0m\u001b[31m\n",
            "\u001b[0mSuccessfully installed langchain-core-1.0.1\n",
            "Requirement already satisfied: tiktoken in /usr/local/lib/python3.12/dist-packages (0.12.0)\n",
            "Requirement already satisfied: regex>=2022.1.18 in /usr/local/lib/python3.12/dist-packages (from tiktoken) (2024.11.6)\n",
            "Requirement already satisfied: requests>=2.26.0 in /usr/local/lib/python3.12/dist-packages (from tiktoken) (2.32.5)\n",
            "Requirement already satisfied: charset_normalizer<4,>=2 in /usr/local/lib/python3.12/dist-packages (from requests>=2.26.0->tiktoken) (3.4.4)\n",
            "Requirement already satisfied: idna<4,>=2.5 in /usr/local/lib/python3.12/dist-packages (from requests>=2.26.0->tiktoken) (3.11)\n",
            "Requirement already satisfied: urllib3<3,>=1.21.1 in /usr/local/lib/python3.12/dist-packages (from requests>=2.26.0->tiktoken) (2.3.0)\n",
            "Requirement already satisfied: certifi>=2017.4.17 in /usr/local/lib/python3.12/dist-packages (from requests>=2.26.0->tiktoken) (2025.10.5)\n",
            "Requirement already satisfied: chromadb in /usr/local/lib/python3.12/dist-packages (1.2.2)\n",
            "Requirement already satisfied: build>=1.0.3 in /usr/local/lib/python3.12/dist-packages (from chromadb) (1.3.0)\n",
            "Requirement already satisfied: pydantic>=1.9 in /usr/local/lib/python3.12/dist-packages (from chromadb) (2.11.10)\n",
            "Requirement already satisfied: pybase64>=1.4.1 in /usr/local/lib/python3.12/dist-packages (from chromadb) (1.4.2)\n",
            "Requirement already satisfied: uvicorn>=0.18.3 in /usr/local/lib/python3.12/dist-packages (from uvicorn[standard]>=0.18.3->chromadb) (0.38.0)\n",
            "Requirement already satisfied: numpy>=1.22.5 in /usr/local/lib/python3.12/dist-packages (from chromadb) (2.0.2)\n",
            "Requirement already satisfied: posthog<6.0.0,>=2.4.0 in /usr/local/lib/python3.12/dist-packages (from chromadb) (5.4.0)\n",
            "Requirement already satisfied: typing-extensions>=4.5.0 in /usr/local/lib/python3.12/dist-packages (from chromadb) (4.15.0)\n",
            "Requirement already satisfied: onnxruntime>=1.14.1 in /usr/local/lib/python3.12/dist-packages (from chromadb) (1.23.2)\n",
            "Requirement already satisfied: opentelemetry-api>=1.2.0 in /usr/local/lib/python3.12/dist-packages (from chromadb) (1.38.0)\n",
            "Requirement already satisfied: opentelemetry-exporter-otlp-proto-grpc>=1.2.0 in /usr/local/lib/python3.12/dist-packages (from chromadb) (1.38.0)\n",
            "Requirement already satisfied: opentelemetry-sdk>=1.2.0 in /usr/local/lib/python3.12/dist-packages (from chromadb) (1.38.0)\n",
            "Requirement already satisfied: tokenizers>=0.13.2 in /usr/local/lib/python3.12/dist-packages (from chromadb) (0.20.3)\n",
            "Requirement already satisfied: pypika>=0.48.9 in /usr/local/lib/python3.12/dist-packages (from chromadb) (0.48.9)\n",
            "Requirement already satisfied: tqdm>=4.65.0 in /usr/local/lib/python3.12/dist-packages (from chromadb) (4.67.1)\n",
            "Requirement already satisfied: overrides>=7.3.1 in /usr/local/lib/python3.12/dist-packages (from chromadb) (7.7.0)\n",
            "Requirement already satisfied: importlib-resources in /usr/local/lib/python3.12/dist-packages (from chromadb) (6.5.2)\n",
            "Requirement already satisfied: grpcio>=1.58.0 in /usr/local/lib/python3.12/dist-packages (from chromadb) (1.75.1)\n",
            "Requirement already satisfied: bcrypt>=4.0.1 in /usr/local/lib/python3.12/dist-packages (from chromadb) (5.0.0)\n",
            "Requirement already satisfied: typer>=0.9.0 in /usr/local/lib/python3.12/dist-packages (from chromadb) (0.20.0)\n",
            "Requirement already satisfied: kubernetes>=28.1.0 in /usr/local/lib/python3.12/dist-packages (from chromadb) (34.1.0)\n",
            "Requirement already satisfied: tenacity>=8.2.3 in /usr/local/lib/python3.12/dist-packages (from chromadb) (8.5.0)\n",
            "Requirement already satisfied: pyyaml>=6.0.0 in /usr/local/lib/python3.12/dist-packages (from chromadb) (6.0.3)\n",
            "Requirement already satisfied: mmh3>=4.0.1 in /usr/local/lib/python3.12/dist-packages (from chromadb) (5.2.0)\n",
            "Requirement already satisfied: orjson>=3.9.12 in /usr/local/lib/python3.12/dist-packages (from chromadb) (3.11.3)\n",
            "Requirement already satisfied: httpx>=0.27.0 in /usr/local/lib/python3.12/dist-packages (from chromadb) (0.28.1)\n",
            "Requirement already satisfied: rich>=10.11.0 in /usr/local/lib/python3.12/dist-packages (from chromadb) (13.9.4)\n",
            "Requirement already satisfied: jsonschema>=4.19.0 in /usr/local/lib/python3.12/dist-packages (from chromadb) (4.25.1)\n",
            "Requirement already satisfied: packaging>=19.1 in /usr/local/lib/python3.12/dist-packages (from build>=1.0.3->chromadb) (25.0)\n",
            "Requirement already satisfied: pyproject_hooks in /usr/local/lib/python3.12/dist-packages (from build>=1.0.3->chromadb) (1.2.0)\n",
            "Requirement already satisfied: anyio in /usr/local/lib/python3.12/dist-packages (from httpx>=0.27.0->chromadb) (4.11.0)\n",
            "Requirement already satisfied: certifi in /usr/local/lib/python3.12/dist-packages (from httpx>=0.27.0->chromadb) (2025.10.5)\n",
            "Requirement already satisfied: httpcore==1.* in /usr/local/lib/python3.12/dist-packages (from httpx>=0.27.0->chromadb) (1.0.9)\n",
            "Requirement already satisfied: idna in /usr/local/lib/python3.12/dist-packages (from httpx>=0.27.0->chromadb) (3.11)\n",
            "Requirement already satisfied: h11>=0.16 in /usr/local/lib/python3.12/dist-packages (from httpcore==1.*->httpx>=0.27.0->chromadb) (0.16.0)\n",
            "Requirement already satisfied: attrs>=22.2.0 in /usr/local/lib/python3.12/dist-packages (from jsonschema>=4.19.0->chromadb) (25.4.0)\n",
            "Requirement already satisfied: jsonschema-specifications>=2023.03.6 in /usr/local/lib/python3.12/dist-packages (from jsonschema>=4.19.0->chromadb) (2025.9.1)\n",
            "Requirement already satisfied: referencing>=0.28.4 in /usr/local/lib/python3.12/dist-packages (from jsonschema>=4.19.0->chromadb) (0.37.0)\n",
            "Requirement already satisfied: rpds-py>=0.7.1 in /usr/local/lib/python3.12/dist-packages (from jsonschema>=4.19.0->chromadb) (0.27.1)\n",
            "Requirement already satisfied: six>=1.9.0 in /usr/local/lib/python3.12/dist-packages (from kubernetes>=28.1.0->chromadb) (1.17.0)\n",
            "Requirement already satisfied: python-dateutil>=2.5.3 in /usr/local/lib/python3.12/dist-packages (from kubernetes>=28.1.0->chromadb) (2.9.0.post0)\n",
            "Requirement already satisfied: google-auth>=1.0.1 in /usr/local/lib/python3.12/dist-packages (from kubernetes>=28.1.0->chromadb) (2.38.0)\n",
            "Requirement already satisfied: websocket-client!=0.40.0,!=0.41.*,!=0.42.*,>=0.32.0 in /usr/local/lib/python3.12/dist-packages (from kubernetes>=28.1.0->chromadb) (1.9.0)\n",
            "Requirement already satisfied: requests in /usr/local/lib/python3.12/dist-packages (from kubernetes>=28.1.0->chromadb) (2.32.5)\n",
            "Requirement already satisfied: requests-oauthlib in /usr/local/lib/python3.12/dist-packages (from kubernetes>=28.1.0->chromadb) (2.0.0)\n",
            "Requirement already satisfied: urllib3<2.4.0,>=1.24.2 in /usr/local/lib/python3.12/dist-packages (from kubernetes>=28.1.0->chromadb) (2.3.0)\n",
            "Requirement already satisfied: durationpy>=0.7 in /usr/local/lib/python3.12/dist-packages (from kubernetes>=28.1.0->chromadb) (0.10)\n",
            "Requirement already satisfied: coloredlogs in /usr/local/lib/python3.12/dist-packages (from onnxruntime>=1.14.1->chromadb) (15.0.1)\n",
            "Requirement already satisfied: flatbuffers in /usr/local/lib/python3.12/dist-packages (from onnxruntime>=1.14.1->chromadb) (25.9.23)\n",
            "Requirement already satisfied: protobuf in /usr/local/lib/python3.12/dist-packages (from onnxruntime>=1.14.1->chromadb) (5.29.5)\n",
            "Requirement already satisfied: sympy in /usr/local/lib/python3.12/dist-packages (from onnxruntime>=1.14.1->chromadb) (1.13.3)\n",
            "Requirement already satisfied: importlib-metadata<8.8.0,>=6.0 in /usr/local/lib/python3.12/dist-packages (from opentelemetry-api>=1.2.0->chromadb) (8.7.0)\n",
            "Requirement already satisfied: googleapis-common-protos~=1.57 in /usr/local/lib/python3.12/dist-packages (from opentelemetry-exporter-otlp-proto-grpc>=1.2.0->chromadb) (1.71.0)\n",
            "Requirement already satisfied: opentelemetry-exporter-otlp-proto-common==1.38.0 in /usr/local/lib/python3.12/dist-packages (from opentelemetry-exporter-otlp-proto-grpc>=1.2.0->chromadb) (1.38.0)\n",
            "Requirement already satisfied: opentelemetry-proto==1.38.0 in /usr/local/lib/python3.12/dist-packages (from opentelemetry-exporter-otlp-proto-grpc>=1.2.0->chromadb) (1.38.0)\n",
            "Requirement already satisfied: opentelemetry-semantic-conventions==0.59b0 in /usr/local/lib/python3.12/dist-packages (from opentelemetry-sdk>=1.2.0->chromadb) (0.59b0)\n",
            "Requirement already satisfied: backoff>=1.10.0 in /usr/local/lib/python3.12/dist-packages (from posthog<6.0.0,>=2.4.0->chromadb) (2.2.1)\n",
            "Requirement already satisfied: distro>=1.5.0 in /usr/local/lib/python3.12/dist-packages (from posthog<6.0.0,>=2.4.0->chromadb) (1.9.0)\n",
            "Requirement already satisfied: annotated-types>=0.6.0 in /usr/local/lib/python3.12/dist-packages (from pydantic>=1.9->chromadb) (0.7.0)\n",
            "Requirement already satisfied: pydantic-core==2.33.2 in /usr/local/lib/python3.12/dist-packages (from pydantic>=1.9->chromadb) (2.33.2)\n",
            "Requirement already satisfied: typing-inspection>=0.4.0 in /usr/local/lib/python3.12/dist-packages (from pydantic>=1.9->chromadb) (0.4.2)\n",
            "Requirement already satisfied: markdown-it-py>=2.2.0 in /usr/local/lib/python3.12/dist-packages (from rich>=10.11.0->chromadb) (4.0.0)\n",
            "Requirement already satisfied: pygments<3.0.0,>=2.13.0 in /usr/local/lib/python3.12/dist-packages (from rich>=10.11.0->chromadb) (2.19.2)\n",
            "Requirement already satisfied: huggingface-hub<1.0,>=0.16.4 in /usr/local/lib/python3.12/dist-packages (from tokenizers>=0.13.2->chromadb) (0.35.3)\n",
            "Requirement already satisfied: click>=8.0.0 in /usr/local/lib/python3.12/dist-packages (from typer>=0.9.0->chromadb) (8.3.0)\n",
            "Requirement already satisfied: shellingham>=1.3.0 in /usr/local/lib/python3.12/dist-packages (from typer>=0.9.0->chromadb) (1.5.4)\n",
            "Requirement already satisfied: httptools>=0.6.3 in /usr/local/lib/python3.12/dist-packages (from uvicorn[standard]>=0.18.3->chromadb) (0.7.1)\n",
            "Requirement already satisfied: python-dotenv>=0.13 in /usr/local/lib/python3.12/dist-packages (from uvicorn[standard]>=0.18.3->chromadb) (1.1.1)\n",
            "Requirement already satisfied: uvloop>=0.15.1 in /usr/local/lib/python3.12/dist-packages (from uvicorn[standard]>=0.18.3->chromadb) (0.22.1)\n",
            "Requirement already satisfied: watchfiles>=0.13 in /usr/local/lib/python3.12/dist-packages (from uvicorn[standard]>=0.18.3->chromadb) (1.1.1)\n",
            "Requirement already satisfied: websockets>=10.4 in /usr/local/lib/python3.12/dist-packages (from uvicorn[standard]>=0.18.3->chromadb) (15.0.1)\n",
            "Requirement already satisfied: cachetools<6.0,>=2.0.0 in /usr/local/lib/python3.12/dist-packages (from google-auth>=1.0.1->kubernetes>=28.1.0->chromadb) (5.5.2)\n",
            "Requirement already satisfied: pyasn1-modules>=0.2.1 in /usr/local/lib/python3.12/dist-packages (from google-auth>=1.0.1->kubernetes>=28.1.0->chromadb) (0.4.2)\n",
            "Requirement already satisfied: rsa<5,>=3.1.4 in /usr/local/lib/python3.12/dist-packages (from google-auth>=1.0.1->kubernetes>=28.1.0->chromadb) (4.9.1)\n",
            "Requirement already satisfied: filelock in /usr/local/lib/python3.12/dist-packages (from huggingface-hub<1.0,>=0.16.4->tokenizers>=0.13.2->chromadb) (3.20.0)\n",
            "Requirement already satisfied: fsspec>=2023.5.0 in /usr/local/lib/python3.12/dist-packages (from huggingface-hub<1.0,>=0.16.4->tokenizers>=0.13.2->chromadb) (2025.3.0)\n",
            "Requirement already satisfied: hf-xet<2.0.0,>=1.1.3 in /usr/local/lib/python3.12/dist-packages (from huggingface-hub<1.0,>=0.16.4->tokenizers>=0.13.2->chromadb) (1.1.10)\n",
            "Requirement already satisfied: zipp>=3.20 in /usr/local/lib/python3.12/dist-packages (from importlib-metadata<8.8.0,>=6.0->opentelemetry-api>=1.2.0->chromadb) (3.23.0)\n",
            "Requirement already satisfied: mdurl~=0.1 in /usr/local/lib/python3.12/dist-packages (from markdown-it-py>=2.2.0->rich>=10.11.0->chromadb) (0.1.2)\n",
            "Requirement already satisfied: charset_normalizer<4,>=2 in /usr/local/lib/python3.12/dist-packages (from requests->kubernetes>=28.1.0->chromadb) (3.4.4)\n",
            "Requirement already satisfied: sniffio>=1.1 in /usr/local/lib/python3.12/dist-packages (from anyio->httpx>=0.27.0->chromadb) (1.3.1)\n",
            "Requirement already satisfied: humanfriendly>=9.1 in /usr/local/lib/python3.12/dist-packages (from coloredlogs->onnxruntime>=1.14.1->chromadb) (10.0)\n",
            "Requirement already satisfied: oauthlib>=3.0.0 in /usr/local/lib/python3.12/dist-packages (from requests-oauthlib->kubernetes>=28.1.0->chromadb) (3.3.1)\n",
            "Requirement already satisfied: mpmath<1.4,>=1.1.0 in /usr/local/lib/python3.12/dist-packages (from sympy->onnxruntime>=1.14.1->chromadb) (1.3.0)\n",
            "Requirement already satisfied: pyasn1<0.7.0,>=0.6.1 in /usr/local/lib/python3.12/dist-packages (from pyasn1-modules>=0.2.1->google-auth>=1.0.1->kubernetes>=28.1.0->chromadb) (0.6.1)\n",
            "Requirement already satisfied: pypdf in /usr/local/lib/python3.12/dist-packages (4.3.1)\n",
            "Requirement already satisfied: pymupdf in /usr/local/lib/python3.12/dist-packages (1.26.5)\n",
            "Requirement already satisfied: pypdfium2 in /usr/local/lib/python3.12/dist-packages (5.0.0)\n"
          ]
        }
      ],
      "source": [
        "# LangChain 1.0+ 설치 (핵심, 커뮤니티, 파트너 패키지 포함)\n",
        "# langchain: Agent, LCEL(LangChain Expression Language) 등 핵심 기능\n",
        "!pip install -U langchain\n",
        "# langchain-core: LangChain의 기본 데이터 구조 (Schema, Runnable 등)\n",
        "!pip install -U langchain-core\n",
        "# langchain-community: ChromaDB, TextLoader 등 커뮤니티 기반 연동 모듈\n",
        "!pip install -U langchain-community\n",
        "# langchain-upstage: Upstage LLM, Embedding 모델 연동 패키지\n",
        "# (구버전과 호환성 문제가 있을 수 있어 -U로 업그레이드 설치 권장)\n",
        "!pip install -U langchain-upstage\n",
        "\n",
        "# RAG 파이프라인 관련\n",
        "# langchain-text-splitters: 문서를 청크로 분할하는 도구\n",
        "!pip install langchain-text-splitters\n",
        "# tiktoken: 텍스트를 토큰 단위로 계산하는 라이브러리\n",
        "!pip install tiktoken\n",
        "\n",
        "# Vector Store\n",
        "# chromadb: 로컬(인메모리 또는 파일) 기반의 벡터 데이터베이스\n",
        "!pip install chromadb\n",
        "\n",
        "# Document Loaders (PDF 처리용)\n",
        "!pip install pypdf pymupdf pypdfium2"
      ]
    },
    {
      "cell_type": "markdown",
      "id": "b4a4dd34",
      "metadata": {
        "id": "b4a4dd34"
      },
      "source": [
        "### 중요. 설치 완료 후 버젼 확인 필수\n",
        "\n",
        "- 1.0 버전이 올바르게 설치되었는지 확인합니다.\n",
        "- 만약 구버전이 확인된다면, Colab 런타임 **[런타임] -> [세션 다시 시작]** 을 실행해 주세요.\n",
        "- `restart` 후에도 캐시 데이터에 의해 구버전이 출력될 수 있습니다. 실습 중 버전 이슈가 발생하면 다시 `restart`를 시도합니다."
      ]
    },
    {
      "cell_type": "code",
      "execution_count": null,
      "id": "d9e0a60d",
      "metadata": {
        "id": "d9e0a60d"
      },
      "outputs": [],
      "source": [
        "# langchain과 langchain-core의 버전을 확인합니다.\n",
        "# (1.0 이상이어야 함)\n",
        "!pip show langchain\n",
        "!pip show langchain-core"
      ]
    },
    {
      "cell_type": "markdown",
      "id": "03836705",
      "metadata": {
        "id": "03836705"
      },
      "source": [
        "### 0-2. Upstage API Key 설정\n",
        "\n",
        "- [Upstage API Docs](https://console.upstage.ai/docs/getting-started)\n",
        "- dotenv 라이브러리를 활용하여 .env 파일에서 API 키를 안전하게 로드합니다.\n",
        "    - **load_dotenv:** .env 파일에 저장된 KEY=VALUE 쌍을 환경 변수로 로드\n",
        "    - **getenv:** 로드된 환경 변수 중 \"UPSTAGE_API_KEY\"에 해당하는 값을 읽음"
      ]
    },
    {
      "cell_type": "code",
      "execution_count": null,
      "id": "a55bd9cc",
      "metadata": {
        "colab": {
          "base_uri": "https://localhost:8080/"
        },
        "id": "a55bd9cc",
        "outputId": "c93215a7-ef67-47f4-f5b2-86689aaced58"
      },
      "outputs": [
        {
          "output_type": "stream",
          "name": "stdout",
          "text": [
            "Mounted at /content/drive\n"
          ]
        }
      ],
      "source": [
        "from google.colab import drive\n",
        "from dotenv import load_dotenv\n",
        "from pprint import pprint\n",
        "from os import getenv\n",
        "\n",
        "# 1. Google Drive 마운트 (드라이브에 저장된 .env 파일을 접근하기 위함)\n",
        "drive.mount('/content/drive')\n",
        "\n",
        "# 2. .env 파일이 저장된 기본 경로를 설정합니다.\n",
        "# (본인의 구글 드라이브 환경에 맞게 이 경로를 수정해야 합니다.)\n",
        "base_path = '/content/drive/MyDrive/Colab Notebooks/AI/11_Agent/'"
      ]
    },
    {
      "cell_type": "code",
      "execution_count": null,
      "id": "2d83f3de",
      "metadata": {
        "id": "2d83f3de"
      },
      "outputs": [],
      "source": [
        "# base_path에 지정된 디렉토리가 존재하지 않을 경우 생성 (-p 옵션).\n",
        "# .env 파일을 저장할 폴더를 미리 준비함.\n",
        "!mkdir -p '{base_path}'"
      ]
    },
    {
      "cell_type": "code",
      "execution_count": 1,
      "id": "5465db88",
      "metadata": {
        "id": "5465db88"
      },
      "outputs": [],
      "source": [
        "# Colab 환경에서 .env 파일을 생성하고 API 키를 저장하는 명령어.\n",
        "# {your_api_key} 부분에 본인의 실제 Upstage API 키를 입력해야 함.\n",
        "# '!'는 Colab에서 셸 명령어를 실행함을 의미.\n",
        "!echo 'UPSTAGE_API_KEY={your_api_key}' > '{base_path}.env'\n",
        "\n",
        "# 기존에 만든.env 파일을 들고와서, 실행은 생략!"
      ]
    },
    {
      "cell_type": "code",
      "execution_count": null,
      "id": "75510c9e",
      "metadata": {
        "colab": {
          "base_uri": "https://localhost:8080/"
        },
        "id": "75510c9e",
        "outputId": "575ba3ed-d36a-4965-ebe6-9f77bf7fbf2f"
      },
      "outputs": [
        {
          "output_type": "stream",
          "name": "stdout",
          "text": [
            "Success API Key Setting!\n"
          ]
        }
      ],
      "source": [
        "# 3. .env 파일 로드\n",
        "# base_path 경로에 있는 .env 파일을 찾아 환경 변수로 로드합니다.\n",
        "# load_dotenv(\".env\") # 로컬 환경용\n",
        "load_dotenv(base_path + \".env\")\n",
        "\n",
        "# 4. 환경 변수 읽기\n",
        "# 런타임 환경에 로드된 'UPSTAGE_API_KEY' 값을 읽어옵니다.\n",
        "UPSTAGE_API_KEY = getenv(\"UPSTAGE_API_KEY\")\n",
        "\n",
        "# API 키가 성공적으로 로드되었는지 확인하고 메시지를 출력.\n",
        "if UPSTAGE_API_KEY:\n",
        "    print('Success API Key Setting!')\n",
        "else:\n",
        "    print(f'ERROR: Failed to load UPSTAGE_API_KEY from {base_path}')"
      ]
    },
    {
      "cell_type": "markdown",
      "id": "dec0716d",
      "metadata": {
        "id": "dec0716d"
      },
      "source": [
        "### 0-3. DB 생성 및 데이터 삽입\n",
        "\n",
        "- Agent가 사용할 '도구(Tool)'는 하드코딩된 값보다 실제 데이터 소스에 연결될 때 훨씬 강력합니다.\n",
        "- `sqlite3`를 사용해 \"AI 온라인 서점\"의 가상 주문 내역 데이터베이스(`orders.db`)를 생성합니다.\n",
        "python으로 SQL 문법을 사용할 수 있도록 해주는 sqlite3 라이브러리 사용\n",
        "- **(참고):** SQL 문법이 익숙하지 않아도 괜찮습니다. \"Agent가 이런 DB를 조회할 수 있구나\" 정도로 이해하고 넘어가셔도 됩니다.\n"
      ]
    },
    {
      "cell_type": "code",
      "execution_count": null,
      "id": "8ad51dda",
      "metadata": {
        "colab": {
          "base_uri": "https://localhost:8080/"
        },
        "id": "8ad51dda",
        "outputId": "df728b9f-1073-46b2-eb14-517455b01206"
      },
      "outputs": [
        {
          "output_type": "stream",
          "name": "stdout",
          "text": [
            "--- Mock 'orders.db' 생성 완료 ---\n"
          ]
        }
      ],
      "source": [
        "import sqlite3\n",
        "\n",
        "# 1. DB 및 테이블 생성 함수 정의\n",
        "def setup_refined_database():\n",
        "    # base_path에 'orders.db'라는 파일 기반 DB를 생성(연결)\n",
        "    conn = sqlite3.connect(base_path + 'orders.db')\n",
        "    # 커서(Cursor)는 DB에 SQL 명령어를 실행하는 객체\n",
        "    c = conn.cursor()\n",
        "    try:\n",
        "        # 'orders'라는 이름의 테이블(표) 생성\n",
        "        # (order_id, customer_name, item_name, status 4개의 열을 가짐)\n",
        "        c.execute('''\n",
        "            CREATE TABLE orders (\n",
        "                order_id TEXT PRIMARY KEY,\n",
        "                customer_name TEXT,\n",
        "                item_name TEXT,\n",
        "                status TEXT\n",
        "            )\n",
        "        ''')\n",
        "        # 샘플 데이터(가상 주문 내역) 삽입\n",
        "        # Delivered         : 배송 완료\n",
        "        # Shipping Delayed  : 배송 지연\n",
        "        # Processing        : 처리 중\n",
        "        c.executemany('INSERT INTO orders (order_id, customer_name, item_name, status) VALUES (?, ?, ?, ?)', [\n",
        "            ('ORDER123', 'Alice Smith', 'Introduction to Python', 'Delivered'),\n",
        "            ('ORDER456', 'Bob Johnson', 'The AI Revolution', 'Shipping Delayed'),\n",
        "            ('ORDER789', 'Charlie Lee', 'Data Structures', 'Processing'),\n",
        "            ('ORDER101', 'David Kim', 'Learning SQL', 'Processing'),\n",
        "            ('ORDER102', 'Alice Smith', 'Advanced ML', 'Delivered'),\n",
        "            ('ORDER505', 'Eva Moon', 'Cloud Computing', 'Shipping Delayed')\n",
        "        ])\n",
        "        # 변경사항을 DB 파일에 최종 저장(Commit)\n",
        "        conn.commit()\n",
        "        print(\"--- Mock 'orders.db' 생성 완료 ---\")\n",
        "    except sqlite3.OperationalError:\n",
        "        # 테이블이 이미 존재하면(두 번째 실행 시) 이 메시지를 출력\n",
        "        print(\"--- Mock 'orders.db'가 이미 존재합니다 ---\")\n",
        "    finally:\n",
        "        # 작업이 끝나면 DB 연결 종료\n",
        "        conn.close()\n",
        "\n",
        "# DB 셋업 함수 실행\n",
        "setup_refined_database()"
      ]
    },
    {
      "cell_type": "markdown",
      "id": "32febd8d",
      "metadata": {
        "id": "32febd8d"
      },
      "source": [
        "## 1. RAG 및 Custom Tool: Agent의 '손발' 만들기\n",
        "\n",
        "Agent는 '두뇌(LLM)'와 '손발(Tools)'로 구성됩니다. LLM이 아무리 똑똑해도, 외부 세계와 상호작용할 도구가 없으면 아무것도 할 수 없습니다.\n",
        "\n",
        "AI 고객센터 직원에게 두 가지 종류의 '손발'을 만들어 줄 것입니다.\n",
        "\n",
        "1. **RAG Tool (문서 검색):** \"배송 정책 알려줘\"와 같이 정해진 답이 없는 '비정형' 질문에 답하기 위한 도구. (지난 시간 복습)\n",
        "2. **Custom Tool:** \"ORDER123 배송 상태 알려줘\"와 같이 명확한 '정형' 요청을 처리하기 위한 도구.\n",
        "\n",
        "### 1-1. (복습) RAG (Retriever) 준비\n",
        "\n",
        "- 지난 시간에 배운 RAG 파이프라인(Load -> Chunk -> Embed & Store -> Retrieve)을 구축하여 '정책 검색' 도구의 기반을 만듭니다.\n",
        "- **collection:** 벡터 스토어 내에서 벡터들을 그룹화하는 단위입니다. (예: \"배송 정책\" 컬렉션, \"반품 정책\" 컬렉션 등)"
      ]
    },
    {
      "cell_type": "code",
      "execution_count": null,
      "id": "2600337e",
      "metadata": {
        "colab": {
          "base_uri": "https://localhost:8080/"
        },
        "id": "2600337e",
        "outputId": "f42ef496-7fa7-4a99-8077-c3d9417ebf9f"
      },
      "outputs": [
        {
          "output_type": "stream",
          "name": "stdout",
          "text": [
            "Archive:  /content/drive/MyDrive/Colab Notebooks/AI/11_Agent//data.zip\n",
            "  inflating: /content/drive/MyDrive/Colab Notebooks/AI/11_Agent//data/도서 품절 보상제도 - 예스24.pdf  \n",
            "  inflating: /content/drive/MyDrive/Colab Notebooks/AI/11_Agent//data/매장 픽업 서비스_서비스 혜택 - 예스24.pdf  \n",
            "  inflating: /content/drive/MyDrive/Colab Notebooks/AI/11_Agent//data/무료배송 추가적립_서비스 혜택 - 예스24.pdf  \n",
            "  inflating: /content/drive/MyDrive/Colab Notebooks/AI/11_Agent//data/영원한 YES포인트_서비스 혜택 - 예스24.pdf  \n",
            "  inflating: /content/drive/MyDrive/Colab Notebooks/AI/11_Agent//data/배송지연 보상제도_서비스 혜택 - 예스24.pdf  \n",
            "  inflating: /content/drive/MyDrive/Colab Notebooks/AI/11_Agent//data/신규 회원 혜택_서비스 혜택 - 예스24.pdf  \n",
            "  inflating: /content/drive/MyDrive/Colab Notebooks/AI/11_Agent//data/총알배송_서비스 혜택 - 예스24.pdf  \n",
            "  inflating: /content/drive/MyDrive/Colab Notebooks/AI/11_Agent//data/제휴 할인카드_서비스 혜택 - 예스24.pdf  \n",
            "총 9개의 문서를 로드했습니다.\n",
            "문서를 총 81개의 청크로 분할했습니다.\n",
            "Vector Store 생성 완료. 컬렉션 개수: 81\n",
            "RAG Retriever가 준비되었습니다.\n"
          ]
        }
      ],
      "source": [
        "import glob\n",
        "# langchain-community에서 로더(PDF, TXT) 임포트\n",
        "from langchain_community.document_loaders import PyMuPDFLoader, TextLoader\n",
        "# data chunking을 위한 텍스트 스플리터\n",
        "from langchain_text_splitters import RecursiveCharacterTextSplitter\n",
        "# langchain-community에서 Vector Store (Chroma) 임포트\n",
        "from langchain_community.vectorstores import Chroma\n",
        "# Upstage 임베딩 모델 임포트\n",
        "from langchain_upstage import UpstageEmbeddings\n",
        "\n",
        "# 1. Load: data 폴더의 모든 PDF와 shipping_policy.txt 파일을 로드\n",
        "!unzip -o \"{base_path}/data.zip\" -d \"{base_path}/data\"\n",
        "pdf_files = glob.glob(base_path + '/data/*.pdf') # PDF 파일 경로\n",
        "documents = []\n",
        "for pdf_filepath in pdf_files:\n",
        "    loader = PyMuPDFLoader(pdf_filepath) # PyMuPDF로 PDF 로드\n",
        "    documents.extend(loader.load())\n",
        "\n",
        "# 배송 정책 TXT 파일 로드\n",
        "shipping_loader = TextLoader(base_path + \"shipping_policy.txt\")\n",
        "documents.extend(shipping_loader.load())\n",
        "print(f\"총 {len(documents)}개의 문서를 로드했습니다.\")\n",
        "\n",
        "# 2. Chunk: 로드된 문서를 200자 단위(overlap 20자)로 분할\n",
        "text_splitter = RecursiveCharacterTextSplitter(\n",
        "    chunk_size=200, # 청크 크기\n",
        "    chunk_overlap=20, # 중복 크기\n",
        ")\n",
        "chunks = text_splitter.split_documents(documents)\n",
        "print(f\"문서를 총 {len(chunks)}개의 청크로 분할했습니다.\")\n",
        "\n",
        "# 3. Embed & Store: Upstage 임베딩 모델로 청크를 벡터화하여 ChromaDB에 저장\n",
        "embeddings = UpstageEmbeddings(model=\"embedding-query\") # Upstage 임베딩 모델\n",
        "\n",
        "# ChromaDB에 청크들을 임베딩하여 저장\n",
        "# persist_directory: 벡터 데이터를 디스크에 저장할 경로\n",
        "vectorstore = Chroma.from_documents(\n",
        "    documents=chunks,\n",
        "    embedding=embeddings,\n",
        "    persist_directory=base_path + \"chroma_db_v1\"\n",
        ")\n",
        "print(f\"Vector Store 생성 완료. 컬렉션 개수: {vectorstore._collection.count()}\")\n",
        "\n",
        "# 4. Retriever: 저장된 Vector Store를 '검색기(Retriever)'로 변환\n",
        "retriever = vectorstore.as_retriever()\n",
        "print(\"RAG Retriever가 준비되었습니다.\")"
      ]
    },
    {
      "cell_type": "markdown",
      "id": "acb0aa7e",
      "metadata": {
        "id": "acb0aa7e"
      },
      "source": [
        "### 1-2. 기능 도구(Tool) 정의\n",
        "\n",
        "이제 Agent가 사용할 3개의 도구를 만듭니다.\n",
        "\n",
        "**도구 정의 시 핵심: '설명(Description)'**\n",
        "\n",
        "Agent(LLM)는 함수 코드를 직접 읽지 못합니다. 대신 함수의 **이름(name)** 과 **설명(docstring, `\"\"\"...\"\"\"`)** 을 읽고 언제 이 도구를 써야 할지 판단합니다.\n",
        "\n",
        "- **(중요)** 도구의 설명을 **\"AI가 이해하기 쉽게, 명확하고 구체적으로\"** 작성하는 것이 Agent 성능에 매우 중요"
      ]
    },
    {
      "cell_type": "markdown",
      "id": "4b6474d9",
      "metadata": {
        "id": "4b6474d9"
      },
      "source": [
        "**도구 1: 정책 검색 (RAG) 도구**\n",
        "- 위에서 만든 retriever를 Agent가 사용할 수 있는 Tool 객체로 포장합니다."
      ]
    },
    {
      "cell_type": "code",
      "execution_count": null,
      "id": "577ec3ab",
      "metadata": {
        "id": "577ec3ab"
      },
      "outputs": [],
      "source": [
        "from langchain_classic.tools.retriever import create_retriever_tool\n",
        "\n",
        "# create_retriever_tool: Retriever 객체를 Agent용 Tool로 변환하는 헬퍼 함수\n",
        "retriever_tool = create_retriever_tool(\n",
        "    retriever, # 1. 사용할 검색기(Retriever)\n",
        "    \"Policy_Search\", # 2. Agent가 부를 도구 이름 (공백X, 영어 권장)\n",
        "    # 3. Agent가 이 도구의 용도를 파악할 수 있는 상세한 설명 (가장 중요!)\n",
        "    \"\"\"배송 정책, 보상 정책, 환불 정책 등 AI 온라인 서점의\n",
        "    다양한 정책 문서에서 고객 질문과 관련된 정보를 검색합니다.\n",
        "    (예: \"배송 지연 시 보상 정책이 어떻게 되나요?\")\n",
        "    \"\"\",\n",
        ")"
      ]
    },
    {
      "cell_type": "code",
      "execution_count": null,
      "id": "6449f9a4",
      "metadata": {
        "colab": {
          "base_uri": "https://localhost:8080/",
          "height": 181
        },
        "id": "6449f9a4",
        "outputId": "f35763ff-0498-45c9-ac51-2c3f7502c61e"
      },
      "outputs": [
        {
          "output_type": "execute_result",
          "data": {
            "text/plain": [
              "'주문시간\\n서울, 수도권, 충청권\\n평일(월~금) 당일배송 종료 직후 ~ 22시까지 주문 시\\n토요일 21시 ~ 일요일 15시까지 주문 시 (월요일 아침 7시 전 배송)\\n그 외 지역\\n평일(월~금) 당일배송 종료 직후 ~ 18시까지 주문 시\\n일요일 0시 ~ 15시까지 주문 시 (월요일 아침 7시 전 배송)\\n\\n0~13시\\n0~12시\\n0~12시\\n0~12시\\n0~12시\\n0~13시\\n0~13시\\n오늘\\n토요일\\n0~11시\\n0~12시\\n0~12시\\n0~11시\\n0~12시\\n0~11시\\n0~12시\\n0~12시\\n0~12시\\n오늘\\n사무실로 주문하시는 경우 퇴근 등으로 당일 배송이 안될 수 있습니다.\\n오후 늦게라도 상품 수령이 가능한 주소를 입력해 주시면 더 원활한 당일배송이 가능합니다.\\n\\n당일배송은 공휴일(일요일 제외)에도 일부 지역에 배송이 가능합니다.\\n하루배송 표시상품을 주문하시면 다음날에 받으실 수 있습니다.\\n지역\\n시간\\n서울\\n수도권(평택제외), 인천\\n대전, 세종, 청주, 천안,\\n아산, 평택\\n광주\\n대구\\n경산, 구미\\n울산, 창원, 포항\\n부산, 김해\\n원주, 춘천\\n그 외 지역\\n물류센터 사정에 따라 일부 조정될 수 있습니다.\\n\\n서울, 수도권(평택 제외), 인천 주문에 한하여 토요일 21시, 그 외 지역은 18시까지 주문하면 월요일 또는 화요일에 배송이 됩니다.\\n예스24\\n서비스/혜택\\n총알배송\\n아침배송 표시 상품을 오늘 밤 10시 전 주문하시면 내일 아침 7시 전에 받으실 수 있습니다.\\n배송지역\\n서울, 수도권, 충청권\\n호남권 (광주, 군산, 익산, 전주)'"
            ],
            "application/vnd.google.colaboratory.intrinsic+json": {
              "type": "string"
            }
          },
          "metadata": {},
          "execution_count": 8
        }
      ],
      "source": [
        "# (테스트) Agent에게 주기 전에 도구가 잘 작동하는지 수동으로 테스트\n",
        "retriever_tool.invoke({\"query\": \"주말에 배송 되나요?\"})"
      ]
    },
    {
      "cell_type": "markdown",
      "id": "2fad75c6",
      "metadata": {
        "id": "2fad75c6"
      },
      "source": [
        "**도구 2: 주문 상태 조회 (DB 검색) 도구**\n",
        "- 파이썬 함수를 `@tool` 데코레이터로 감싸면 간단하게 Agent용 Tool로 만들 수 있습니다.\n",
        "- 이 도구는 `orders.db`에서 특정 주문 ID의 상태를 조회합니다."
      ]
    },
    {
      "cell_type": "code",
      "execution_count": null,
      "id": "3f361909",
      "metadata": {
        "id": "3f361909"
      },
      "outputs": [],
      "source": [
        "from langchain.tools import tool\n",
        "\n",
        "# @tool: 이 데코레이터가 붙은 함수를 LangChain Tool로 자동 변환\n",
        "@tool\n",
        "def get_order_status_from_db(order_id: str) -> str:\n",
        "    \"\"\"(DB 조회)\n",
        "        주문 ID를 받아 현재 '배송 상태' 문자열을 반환합니다.\n",
        "        단, DB 연결 오류 시 \"DB Error: {오류 메시지}\" 반환하고,\n",
        "        주문 ID가 없을 시 \"Order Not Found\"를 반환합니다.\n",
        "    \"\"\"\n",
        "    # 디버깅용 (Agent가 이 함수를 호출할 때마다 콘솔에 출력됨)\n",
        "    print(f\"--- get_order_status_from_db 호출됨: {order_id} ---\")\n",
        "    try:\n",
        "        # 0-3에서 만든 DB 파일에 연결\n",
        "        conn = sqlite3.connect(base_path + 'orders.db')\n",
        "        c = conn.cursor()\n",
        "        # SQL 쿼리 실행: orders 테이블에서 order_id가 일치하는 row의 'status' 열을 선택\n",
        "        c.execute(\"SELECT status FROM orders WHERE order_id = ?\", (order_id,))\n",
        "        # 결과 중 첫 번째 줄을 가져옴 (예: ('Delivered',))\n",
        "        result = c.fetchone()\n",
        "        conn.close()\n",
        "\n",
        "        if result:\n",
        "            return result[0] # 튜플이 아닌 문자열 값(예: 'Delivered')을 반환\n",
        "        else:\n",
        "            return \"Order Not Found\"\n",
        "    except Exception as e:\n",
        "        return f\"DB Error: {str(e)}\""
      ]
    },
    {
      "cell_type": "markdown",
      "id": "2309b93d",
      "metadata": {
        "id": "2309b93d"
      },
      "source": [
        "**도구 3: 배송 지연 쿠폰 발급 도구**\n",
        "\n",
        "- \"도구가 다른 도구를 호출\"하는 복합적인 도구입니다.\n",
        "- **로직:**\n",
        "    1. `get_order_status_from_db` 도구를 **`.invoke()`** 로 호출하여 주문 상태를 먼저 확인.\n",
        "    2. 상태가 \"Shipping Delayed\"일 때만 쿠폰 발급 (하드코딩).\n",
        "- **(주의):** 도구 내에서 다른 도구를 호출할 때는 일반 함수처럼 `get_order_status_from_db(...)`로 호출하면 안 되고, 반드시 `.invoke(...)`를 사용해야 LangChain의 추적 시스템(LangSmith)이 올바르게 작동합니다."
      ]
    },
    {
      "cell_type": "code",
      "execution_count": null,
      "id": "d842687d",
      "metadata": {
        "id": "d842687d"
      },
      "outputs": [],
      "source": [
        "# 3. 배송 지연 쿠폰 발급 도구 함수\n",
        "@tool\n",
        "def issue_complaint_coupon(order_id: str) -> str:\n",
        "    \"\"\"(DB 조회 기반 쿠폰 발급)\n",
        "        주문 ID를 받아, 배송 상태가 'Shipping Delayed'일 때만 쿠폰을 발급합니다.\n",
        "        (실제 쿠폰 생성 로직은 하드코딩으로 대체하고, 발급 메시지만 반환합니다.)\n",
        "    \"\"\"\n",
        "    # 디버깅용\n",
        "    print(f\"--- issue_complaint_coupon 호출됨: {order_id} ---\")\n",
        "\n",
        "    # (중요!) 도구가 다른 도구를 호출할 때는 .invoke() 사용\n",
        "    order_status = get_order_status_from_db.invoke(order_id)\n",
        "\n",
        "    # 비즈니스 로직: 배송 지연 상태가 맞는지 확인\n",
        "    if order_status == \"Shipping Delayed\":\n",
        "        # (원래라면 이곳에 쿠폰 DB INSERT 로직 등이 들어감)\n",
        "        return f\"주문 ID {order_id}에 대해 5,000원 할인 쿠폰이 발급되었습니다.\"\n",
        "    else:\n",
        "        return f\"주문 ID {order_id}는 쿠폰 발급 대상이 아닙니다. 현재 상태: {order_status}\""
      ]
    },
    {
      "cell_type": "markdown",
      "id": "b33db639",
      "metadata": {
        "id": "b33db639"
      },
      "source": [
        "----------"
      ]
    },
    {
      "cell_type": "markdown",
      "id": "0ddd3576",
      "metadata": {
        "id": "0ddd3576"
      },
      "source": [
        "## 2. ReAct Agent 설계 및 실행\n",
        "\n",
        "이제 '두뇌(LLM)'와 '손발(Tools)' 조립입니다.\n",
        "\n",
        "\n",
        "### 2-1. ReAct (Reason + Act)란?\n",
        "\n",
        "- LLM이 **추론(Reasoning)** 과 **행동(Acting)** 을 반복하며 복잡한 문제를 해결하는 프레임워크입니다.\n",
        "- Agent는 사용자의 요청을 받으면, `Thought(생각) -> Action(행동) -> Observation(관찰)` 사이클을 반복합니다.\n",
        "\n",
        "\n",
        "**예시: \"내 주문 ORDER456 배송 지연됐던데 쿠폰 줘\"**\n",
        "\n",
        "1. **Thought (생각):** \"고객이 ORDER456의 쿠폰을 원하네. 하지만 쿠폰은 '배송 지연' 상태일 때만 줘야 한다는 규칙이 있었지. 먼저 `get_order_status_from_db` 도구로 상태를 확인해야겠다.\"\n",
        "\n",
        "2. **Action (행동):** `get_order_status_from_db[ORDER456]` 도구를 실행.\n",
        "\n",
        "3. **Observation (관찰):** \"도구 결과로 'Shipping Delayed'\"라는 텍스트를 받음.\n",
        "\n",
        "4. **Thought (생각):** \"좋아, 'Shipping Delayed' 상태가 맞네. 이제 `issue_complaint_coupon` 도구를 사용해서 쿠폰을 발급하자.\"\n",
        "\n",
        "5. **Action (행동):** `issue_complaint_coupon[ORDER456]` 도구를 실행.\n",
        "\n",
        "6. **Observation (관찰):** \"도구 결과로 '...5,000원 할인 쿠폰이 발급되었습니다.'\"라는 텍스트를 받음.\n",
        "\n",
        "7. **Thought (생각):** \"모든 정보가 모였다. 이제 이 두 가지 결과를 조합해서 고객에게 최종 답변을 생성하자.\"\n",
        "\n",
        "8. **Final Answer (최종 답변):** \"네, 고객님. 주문...은 배송 지연으로 확인되어 5,000원 쿠폰이 발급되었습니다.\""
      ]
    },
    {
      "cell_type": "markdown",
      "id": "04047997",
      "metadata": {
        "id": "04047997"
      },
      "source": [
        "### 2-2. 시스템 프롬프트 설계 (Agent의 규칙)\n",
        "- Agent가 이 ReAct 사이클을 따르고, 우리가 정한 '신뢰성(Trustworthiness) 규칙'을 지키도록 **시스템 프롬프트**로 명확하게 지시해야 합니다.\n",
        "- 이것은 Agent의 '헌법' 또는 **'행동 강령'** 과 같습니다."
      ]
    },
    {
      "cell_type": "code",
      "execution_count": null,
      "id": "5dde4fa2",
      "metadata": {
        "id": "5dde4fa2"
      },
      "outputs": [],
      "source": [
        "system_prompt = \"\"\"\n",
        "당신은 AI 온라인 서점의 고객 서비스 AI 에이전트입니다.\n",
        "당신은 사용자의 요청을 해결하기 위해 '도구(tool)'를 사용해야 합니다.\n",
        "\n",
        "[작업 수행 가이드라인]\n",
        "1.  사용자의 요청을 받으면, 먼저 '생각(Thought)'을 합니다.\n",
        "2.  요청을 해결하는 데 필요한 정보가 무엇인지 분석합니다.\n",
        "3.  필요한 정보를 수집하기 위해 어떤 '도구'를 사용해야 할지 결정합니다.\n",
        "4.  도구를 사용한 후, '관찰(Observation)' 결과를 봅니다.\n",
        "5.  모든 정보가 모일 때까지 1-4 단계를 반복합니다.\n",
        "6.  모든 정보가 수집되면, 이를 바탕으로 사용자에게 최종 답변을 생성합니다.\n",
        "\n",
        "[!!절대적 규칙!!]\n",
        "- 'issue_complaint_coupon' 도구는 고객이 요청하더라도, 'get_order_status_from_db' 도구의 결과가 'Shipping Delayed'일 때만 사용해야 합니다.\n",
        "- 주문 상태가 불명확하면, 쿠폰을 발급하기 전에 반드시 'get_order_status_from_db'를 먼저 사용해야 합니다.\n",
        "- 절대 추측하지 말고, 항상 도구의 실행 결과를 바탕으로만 답변하세요.\n",
        "- 정책에 대한 질문은 'Policy_Search' 도구를 사용하세요.\n",
        "\"\"\""
      ]
    },
    {
      "cell_type": "markdown",
      "id": "a52632dc",
      "metadata": {
        "id": "a52632dc"
      },
      "source": [
        "### 2-3. Agent 생성 및 실행\n",
        "\n",
        "- `langchain.agents.create_agent` 함수를 사용해 LLM(두뇌), Tools(손발), Prompt(규칙)를 결합합니다."
      ]
    },
    {
      "cell_type": "code",
      "execution_count": null,
      "id": "4d5ecdfb",
      "metadata": {
        "colab": {
          "base_uri": "https://localhost:8080/"
        },
        "id": "4d5ecdfb",
        "outputId": "d14caa77-0dec-486a-cda7-0e7b3472a621"
      },
      "outputs": [
        {
          "output_type": "stream",
          "name": "stdout",
          "text": [
            "ReAct Agent 생성 완료\n"
          ]
        }
      ],
      "source": [
        "from langchain.agents import create_agent\n",
        "from langchain_upstage import ChatUpstage\n",
        "\n",
        "# 1. Agent가 사용할 도구들을 리스트로 묶기\n",
        "agent_tools = [retriever_tool, get_order_status_from_db, issue_complaint_coupon]\n",
        "\n",
        "# 2. Agent의 '두뇌'가 될 LLM 정의\n",
        "llm = ChatUpstage()\n",
        "\n",
        "# 3. ReAct Agent 생성\n",
        "# create_agent가 내부적으로 ReAct 프롬프트 템플릿과 LLM, Tools를 결합\n",
        "agent = create_agent(\n",
        "    model=llm,          # 사용할 LLM (두뇌)\n",
        "    tools=agent_tools,  # 사용할 도구 리스트 (손발)\n",
        "    system_prompt=system_prompt # 시스템 프롬프트 (규칙)\n",
        ")\n",
        "print(\"ReAct Agent 생성 완료\")"
      ]
    },
    {
      "cell_type": "markdown",
      "id": "ba18cc92",
      "metadata": {
        "id": "ba18cc92"
      },
      "source": [
        "### 2-4. Agent 테스트 및 로그 분석 (T-A-O)\n",
        "\n",
        "- `agent.stream`을 사용하면 Agent의 '생각' 과정을 실시간으로 스트리밍하며 관찰할 수 있습니다.\n",
        "\n",
        "\n",
        "#### 2-4-1. 시나리오 1: 배송 지연 + 쿠폰 요청 (규칙 준수 테스트)\n",
        "- **요청:** \"주문 ID ORDER456의 배송 상태가 어떻게 되나요? 만약 지연되었다면 쿠폰을 받을 수 있나요?\"\n",
        "- **예상 T-A-O:**\n",
        "    1. **Thought:** (상태 확인 및 쿠폰 발급을 결정)\n",
        "\n",
        "    2. **Action 1:** `get_order_status_from_db` 호출\n",
        "\n",
        "    3. **Observation 1:** \"Shipping Delayed\"\n",
        "\n",
        "    4. **Thought:** (지연 확인, 쿠폰 발급 결정)\n",
        "\n",
        "    5. **Action 2:** `issue_complaint_coupon` 호출\n",
        "\n",
        "    6. **Observation 2:** \"쿠폰 발급됨\"\n",
        "\n",
        "    7. **Thought:** (최종 답변 생성)\n",
        "\n",
        "    8. **Final Answer:** (최종 답변)\n"
      ]
    },
    {
      "cell_type": "code",
      "execution_count": null,
      "id": "2817decc",
      "metadata": {
        "colab": {
          "base_uri": "https://localhost:8080/"
        },
        "id": "2817decc",
        "outputId": "c13d4149-54d1-42b4-862f-d5135f007adb"
      },
      "outputs": [
        {
          "output_type": "stream",
          "name": "stdout",
          "text": [
            "--- CHUNK ---\n",
            "step: model\n",
            "(\"content: [{'type': 'tool_call', 'id': \"\n",
            " \"'4e332a93-bfac-4e70-be35-9f733aa57728', 'name': 'get_order_status_from_db', \"\n",
            " \"'args': {'order_id': 'ORDER456'}}]\")\n",
            "--- get_order_status_from_db 호출됨: ORDER456 ---\n",
            "--- CHUNK ---\n",
            "step: tools\n",
            "\"content: [{'type': 'text', 'text': 'Shipping Delayed'}]\"\n",
            "--- CHUNK ---\n",
            "step: model\n",
            "(\"content: [{'type': 'tool_call', 'id': \"\n",
            " \"'0cd938de-07c0-4d82-baca-869d576af3ac', 'name': 'issue_complaint_coupon', \"\n",
            " \"'args': {'order_id': 'ORDER456'}}]\")\n",
            "--- issue_complaint_coupon 호출됨: ORDER456 ---\n",
            "--- get_order_status_from_db 호출됨: ORDER456 ---\n",
            "--- CHUNK ---\n",
            "step: tools\n",
            "(\"content: [{'type': 'text', 'text': '주문 ID ORDER456에 대해 5,000원 할인 쿠폰이 \"\n",
            " \"발급되었습니다.'}]\")\n",
            "--- CHUNK ---\n",
            "step: model\n",
            "('content: [{\\'type\\': \\'text\\', \\'text\\': \"주문 ID ORDER456의 배송 상태는 현재 '\n",
            " '\\'Shipping Delayed\\'입니다. 이에 따라, 5,000원 할인 쿠폰이 발급되었습니다.\"}]')\n"
          ]
        }
      ],
      "source": [
        "query_1 = \"주문 ID ORDER456의 배송 상태가 어떻게 되나요? 만약 지연되었다면 쿠폰을 받을 수 있나요?\"\n",
        "\n",
        "# agent.stream을 사용하여 Agent의 실시간 반응(T-A-O)을 관찰\n",
        "for chunk in agent.stream(\n",
        "    {\"messages\": [{\"role\": \"user\", \"content\": query_1}]},\n",
        "    stream_mode=\"updates\", # 'updates' 모드는 ReAct의 각 '단계'별로만 청크를 반환\n",
        "):\n",
        "    print(\"--- CHUNK ---\")\n",
        "    # 청크의 content_blocks를 출력하여 T-A-O 과정을 확인\n",
        "    for step, data in chunk.items():\n",
        "        print(f\"step: {step}\")\n",
        "        if 'messages' in data:\n",
        "            # content_blocks에 Thought, Action(ToolCall), Observation(ToolResult), AiMessage가 포함됨\n",
        "            pprint(f\"content: {data['messages'][-1].content_blocks}\")"
      ]
    },
    {
      "cell_type": "markdown",
      "id": "624cfc8f",
      "metadata": {
        "id": "624cfc8f"
      },
      "source": [
        "#### 2-4-2. 시나리오 2: 배송 완료 + 쿠폰 요청 (규칙 거부 테스트)\n",
        "- **요청:** \"제 주문 ORDER123인데요. 쿠폰 좀 발급해주세요.\"\n",
        "\n",
        "- **예상 T-A-O:**\n",
        "\n",
        "    1. Thought: (쿠폰 발급 전 상태 확인 결정)\n",
        "\n",
        "    2. Action 1: `get_order_status_from_db` 호출\n",
        "\n",
        "    3. Observation 1: \"Delivered\"\n",
        "\n",
        "    4. Thought: ('Delivered'이므로 쿠폰 발급 불가 결정, `issue_complaint_coupon` 호출 안 함)\n",
        "\n",
        "    5. Final Answer: \"고객님, 주문 ORDER123은 'Delivered'(배송 완료) 상태로 확인되어 쿠폰 발급 대상이 아닙니다.\""
      ]
    },
    {
      "cell_type": "code",
      "execution_count": null,
      "id": "fa9c2c0c",
      "metadata": {
        "colab": {
          "base_uri": "https://localhost:8080/"
        },
        "id": "fa9c2c0c",
        "outputId": "7a1a6900-d5c5-44cd-96d3-f5c563b4d762"
      },
      "outputs": [
        {
          "output_type": "stream",
          "name": "stdout",
          "text": [
            "--- CHUNK ---\n",
            "step: model\n",
            "content: [{'type': 'tool_call', 'id': '175aca73-a206-470f-8a0e-662ef24a428a', 'name': 'get_order_status_from_db', 'args': {'order_id': 'ORDER123'}}]\n",
            "--- get_order_status_from_db 호출됨: ORDER123 ---\n",
            "--- CHUNK ---\n",
            "step: tools\n",
            "content: [{'type': 'text', 'text': 'Delivered'}]\n",
            "--- CHUNK ---\n",
            "step: model\n",
            "content: [{'type': 'text', 'text': \"주문 상태는 'Delivered'로 확인되었습니다. 따라서 현재 주문 상태로는 쿠폰을 발급할 수 없습니다. 다른 도움이 필요하신가요?\"}]\n"
          ]
        }
      ],
      "source": [
        "query_2 = \"제 주문 ORDER123인데요. 쿠폰 좀 발급해주세요.\"\n",
        "\n",
        "for chunk in agent.stream(\n",
        "    {\"messages\": [{\"role\": \"user\", \"content\": query_2}]},\n",
        "    stream_mode=\"updates\",\n",
        "):\n",
        "    print(\"--- CHUNK ---\")\n",
        "    for step, data in chunk.items():\n",
        "        print(f\"step: {step}\")\n",
        "        if 'messages' in data:\n",
        "            print(f\"content: {data['messages'][-1].content_blocks}\")"
      ]
    },
    {
      "cell_type": "markdown",
      "id": "d2b8e16c",
      "metadata": {
        "id": "d2b8e16c"
      },
      "source": [
        "## Extra. Short-term Memory (대화 기억)\n",
        "- 지금까지 만든 Agent는 **'기억력(Memory)'이 없습니다.** 각 `stream` 또는 `invoke` 호출은 완전히 새로운 대화입니다.\n",
        "- **문제점:**\n",
        "    - **User:** \"배송 조회하려면 뭐가 필요해?\"\n",
        "    - **Agent:** \"주문 ID가 필요합니다.\"\n",
        "    - **User:** \"ORDER456이야.\"\n",
        "    - **Agent:** (기억 못 함) \"무엇을 도와드릴까요?\"\n",
        "- 해결책: `LangGraph`의 **Checkpointer**를 사용하여 대화 기록을 DB에 저장합니다."
      ]
    },
    {
      "cell_type": "markdown",
      "id": "d22cdc43",
      "metadata": {
        "id": "d22cdc43"
      },
      "source": [
        "### E-1. LangGraph Checkpointer 설치\n",
        "- Agent의 '상태(State)'와 '대화 기록(Messages)'을 관리하고 DB에 저장(Checkpoint)하기 위한 `langgraph-checkpoint-sqlite` 라이브러리를 설치합니다.\n",
        "\n",
        "- (참고: `LangGraph`는 Agent의 흐름을 '그래프(Graph)'로 설계하는 고급 라이브러리입니다. 오늘은 이 중 '메모리 저장' 기능만 간단히 사용해 봅니다.)"
      ]
    },
    {
      "cell_type": "code",
      "execution_count": null,
      "id": "0b2e06ce",
      "metadata": {
        "colab": {
          "base_uri": "https://localhost:8080/",
          "height": 852
        },
        "id": "0b2e06ce",
        "outputId": "c585bb2d-0007-4822-9a34-0465db81acd2"
      },
      "outputs": [
        {
          "output_type": "stream",
          "name": "stdout",
          "text": [
            "Collecting langgraph-checkpoint-sqlite\n",
            "  Downloading langgraph_checkpoint_sqlite-3.0.0-py3-none-any.whl.metadata (2.6 kB)\n",
            "Collecting aiosqlite>=0.20 (from langgraph-checkpoint-sqlite)\n",
            "  Downloading aiosqlite-0.21.0-py3-none-any.whl.metadata (4.3 kB)\n",
            "Requirement already satisfied: langgraph-checkpoint<4.0.0,>=3 in /usr/local/lib/python3.12/dist-packages (from langgraph-checkpoint-sqlite) (3.0.0)\n",
            "Collecting sqlite-vec>=0.1.6 (from langgraph-checkpoint-sqlite)\n",
            "  Downloading sqlite_vec-0.1.6-py3-none-manylinux_2_17_x86_64.manylinux2014_x86_64.manylinux1_x86_64.whl.metadata (198 bytes)\n",
            "Requirement already satisfied: typing_extensions>=4.0 in /usr/local/lib/python3.12/dist-packages (from aiosqlite>=0.20->langgraph-checkpoint-sqlite) (4.15.0)\n",
            "Requirement already satisfied: langchain-core>=0.2.38 in /usr/local/lib/python3.12/dist-packages (from langgraph-checkpoint<4.0.0,>=3->langgraph-checkpoint-sqlite) (1.0.1)\n",
            "Requirement already satisfied: ormsgpack>=1.10.0 in /usr/local/lib/python3.12/dist-packages (from langgraph-checkpoint<4.0.0,>=3->langgraph-checkpoint-sqlite) (1.11.0)\n",
            "Requirement already satisfied: jsonpatch<2.0.0,>=1.33.0 in /usr/local/lib/python3.12/dist-packages (from langchain-core>=0.2.38->langgraph-checkpoint<4.0.0,>=3->langgraph-checkpoint-sqlite) (1.33)\n",
            "Requirement already satisfied: langsmith<1.0.0,>=0.3.45 in /usr/local/lib/python3.12/dist-packages (from langchain-core>=0.2.38->langgraph-checkpoint<4.0.0,>=3->langgraph-checkpoint-sqlite) (0.4.37)\n",
            "Requirement already satisfied: packaging<26.0.0,>=23.2.0 in /usr/local/lib/python3.12/dist-packages (from langchain-core>=0.2.38->langgraph-checkpoint<4.0.0,>=3->langgraph-checkpoint-sqlite) (25.0)\n",
            "Requirement already satisfied: pydantic<3.0.0,>=2.7.4 in /usr/local/lib/python3.12/dist-packages (from langchain-core>=0.2.38->langgraph-checkpoint<4.0.0,>=3->langgraph-checkpoint-sqlite) (2.11.10)\n",
            "Requirement already satisfied: pyyaml<7.0.0,>=5.3.0 in /usr/local/lib/python3.12/dist-packages (from langchain-core>=0.2.38->langgraph-checkpoint<4.0.0,>=3->langgraph-checkpoint-sqlite) (6.0.3)\n",
            "Requirement already satisfied: tenacity!=8.4.0,<10.0.0,>=8.1.0 in /usr/local/lib/python3.12/dist-packages (from langchain-core>=0.2.38->langgraph-checkpoint<4.0.0,>=3->langgraph-checkpoint-sqlite) (8.5.0)\n",
            "Requirement already satisfied: jsonpointer>=1.9 in /usr/local/lib/python3.12/dist-packages (from jsonpatch<2.0.0,>=1.33.0->langchain-core>=0.2.38->langgraph-checkpoint<4.0.0,>=3->langgraph-checkpoint-sqlite) (3.0.0)\n",
            "Requirement already satisfied: httpx<1,>=0.23.0 in /usr/local/lib/python3.12/dist-packages (from langsmith<1.0.0,>=0.3.45->langchain-core>=0.2.38->langgraph-checkpoint<4.0.0,>=3->langgraph-checkpoint-sqlite) (0.28.1)\n",
            "Requirement already satisfied: orjson>=3.9.14 in /usr/local/lib/python3.12/dist-packages (from langsmith<1.0.0,>=0.3.45->langchain-core>=0.2.38->langgraph-checkpoint<4.0.0,>=3->langgraph-checkpoint-sqlite) (3.11.3)\n",
            "Requirement already satisfied: requests-toolbelt>=1.0.0 in /usr/local/lib/python3.12/dist-packages (from langsmith<1.0.0,>=0.3.45->langchain-core>=0.2.38->langgraph-checkpoint<4.0.0,>=3->langgraph-checkpoint-sqlite) (1.0.0)\n",
            "Requirement already satisfied: requests>=2.0.0 in /usr/local/lib/python3.12/dist-packages (from langsmith<1.0.0,>=0.3.45->langchain-core>=0.2.38->langgraph-checkpoint<4.0.0,>=3->langgraph-checkpoint-sqlite) (2.32.5)\n",
            "Requirement already satisfied: zstandard>=0.23.0 in /usr/local/lib/python3.12/dist-packages (from langsmith<1.0.0,>=0.3.45->langchain-core>=0.2.38->langgraph-checkpoint<4.0.0,>=3->langgraph-checkpoint-sqlite) (0.25.0)\n",
            "Requirement already satisfied: annotated-types>=0.6.0 in /usr/local/lib/python3.12/dist-packages (from pydantic<3.0.0,>=2.7.4->langchain-core>=0.2.38->langgraph-checkpoint<4.0.0,>=3->langgraph-checkpoint-sqlite) (0.7.0)\n",
            "Requirement already satisfied: pydantic-core==2.33.2 in /usr/local/lib/python3.12/dist-packages (from pydantic<3.0.0,>=2.7.4->langchain-core>=0.2.38->langgraph-checkpoint<4.0.0,>=3->langgraph-checkpoint-sqlite) (2.33.2)\n",
            "Requirement already satisfied: typing-inspection>=0.4.0 in /usr/local/lib/python3.12/dist-packages (from pydantic<3.0.0,>=2.7.4->langchain-core>=0.2.38->langgraph-checkpoint<4.0.0,>=3->langgraph-checkpoint-sqlite) (0.4.2)\n",
            "Requirement already satisfied: anyio in /usr/local/lib/python3.12/dist-packages (from httpx<1,>=0.23.0->langsmith<1.0.0,>=0.3.45->langchain-core>=0.2.38->langgraph-checkpoint<4.0.0,>=3->langgraph-checkpoint-sqlite) (4.11.0)\n",
            "Requirement already satisfied: certifi in /usr/local/lib/python3.12/dist-packages (from httpx<1,>=0.23.0->langsmith<1.0.0,>=0.3.45->langchain-core>=0.2.38->langgraph-checkpoint<4.0.0,>=3->langgraph-checkpoint-sqlite) (2025.10.5)\n",
            "Requirement already satisfied: httpcore==1.* in /usr/local/lib/python3.12/dist-packages (from httpx<1,>=0.23.0->langsmith<1.0.0,>=0.3.45->langchain-core>=0.2.38->langgraph-checkpoint<4.0.0,>=3->langgraph-checkpoint-sqlite) (1.0.9)\n",
            "Requirement already satisfied: idna in /usr/local/lib/python3.12/dist-packages (from httpx<1,>=0.23.0->langsmith<1.0.0,>=0.3.45->langchain-core>=0.2.38->langgraph-checkpoint<4.0.0,>=3->langgraph-checkpoint-sqlite) (3.11)\n",
            "Requirement already satisfied: h11>=0.16 in /usr/local/lib/python3.12/dist-packages (from httpcore==1.*->httpx<1,>=0.23.0->langsmith<1.0.0,>=0.3.45->langchain-core>=0.2.38->langgraph-checkpoint<4.0.0,>=3->langgraph-checkpoint-sqlite) (0.16.0)\n",
            "Requirement already satisfied: charset_normalizer<4,>=2 in /usr/local/lib/python3.12/dist-packages (from requests>=2.0.0->langsmith<1.0.0,>=0.3.45->langchain-core>=0.2.38->langgraph-checkpoint<4.0.0,>=3->langgraph-checkpoint-sqlite) (3.4.4)\n",
            "Requirement already satisfied: urllib3<3,>=1.21.1 in /usr/local/lib/python3.12/dist-packages (from requests>=2.0.0->langsmith<1.0.0,>=0.3.45->langchain-core>=0.2.38->langgraph-checkpoint<4.0.0,>=3->langgraph-checkpoint-sqlite) (2.3.0)\n",
            "Requirement already satisfied: sniffio>=1.1 in /usr/local/lib/python3.12/dist-packages (from anyio->httpx<1,>=0.23.0->langsmith<1.0.0,>=0.3.45->langchain-core>=0.2.38->langgraph-checkpoint<4.0.0,>=3->langgraph-checkpoint-sqlite) (1.3.1)\n",
            "Downloading langgraph_checkpoint_sqlite-3.0.0-py3-none-any.whl (32 kB)\n",
            "Downloading aiosqlite-0.21.0-py3-none-any.whl (15 kB)\n",
            "Downloading sqlite_vec-0.1.6-py3-none-manylinux_2_17_x86_64.manylinux2014_x86_64.manylinux1_x86_64.whl (151 kB)\n",
            "\u001b[2K   \u001b[90m━━━━━━━━━━━━━━━━━━━━━━━━━━━━━━━━━━━━━━━━\u001b[0m \u001b[32m151.6/151.6 kB\u001b[0m \u001b[31m9.5 MB/s\u001b[0m eta \u001b[36m0:00:00\u001b[0m\n",
            "\u001b[?25hInstalling collected packages: sqlite-vec, aiosqlite, langgraph-checkpoint-sqlite\n",
            "Successfully installed aiosqlite-0.21.0 langgraph-checkpoint-sqlite-3.0.0 sqlite-vec-0.1.6\n"
          ]
        },
        {
          "output_type": "display_data",
          "data": {
            "application/vnd.colab-display-data+json": {
              "pip_warning": {
                "packages": [
                  "langgraph"
                ]
              },
              "id": "e089a5d2183c49269f6d9e78faa0d501"
            }
          },
          "metadata": {}
        }
      ],
      "source": [
        "# Agent의 대화 기록을 SQLite DB에 저장하기 위한 라이브러리\n",
        "!pip install langgraph-checkpoint-sqlite"
      ]
    },
    {
      "cell_type": "markdown",
      "id": "d6f22f7c",
      "metadata": {
        "id": "d6f22f7c"
      },
      "source": [
        "### E-2. Agent에 Checkpointer(메모리) 적용\n",
        "#### E-2-1. Checkpointer 정의\n",
        "- `SqliteSaver`: 대화 기록(Checkpoint)을 SQLite DB 파일(`database.db`)에 저장하는 객체입니다.\n",
        "- `AgentState`: Agent가 기억해야 할 대화 상태의 '구조(Schema)'를 정의합니다. (기본적으로 messages 포함)"
      ]
    },
    {
      "cell_type": "code",
      "execution_count": null,
      "id": "daccec90",
      "metadata": {
        "colab": {
          "base_uri": "https://localhost:8080/",
          "height": 220
        },
        "id": "daccec90",
        "outputId": "f3c1c83f-3562-4390-d62f-a566a122072a"
      },
      "outputs": [
        {
          "output_type": "error",
          "ename": "NameError",
          "evalue": "name 'base_path' is not defined",
          "traceback": [
            "\u001b[0;31m---------------------------------------------------------------------------\u001b[0m",
            "\u001b[0;31mNameError\u001b[0m                                 Traceback (most recent call last)",
            "\u001b[0;32m/tmp/ipython-input-4265872963.py\u001b[0m in \u001b[0;36m<cell line: 0>\u001b[0;34m()\u001b[0m\n\u001b[1;32m      6\u001b[0m \u001b[0;31m# (check_same_thread=False는 sqlite가 여러 스레드에서 접근 가능하도록 허용하는 설정)\u001b[0m\u001b[0;34m\u001b[0m\u001b[0;34m\u001b[0m\u001b[0m\n\u001b[1;32m      7\u001b[0m checkpointer = SqliteSaver(\n\u001b[0;32m----> 8\u001b[0;31m     \u001b[0msqlite3\u001b[0m\u001b[0;34m.\u001b[0m\u001b[0mconnect\u001b[0m\u001b[0;34m(\u001b[0m\u001b[0mbase_path\u001b[0m \u001b[0;34m+\u001b[0m \u001b[0;34m\"database.db\"\u001b[0m\u001b[0;34m,\u001b[0m \u001b[0mcheck_same_thread\u001b[0m\u001b[0;34m=\u001b[0m\u001b[0;32mFalse\u001b[0m\u001b[0;34m)\u001b[0m\u001b[0;34m\u001b[0m\u001b[0;34m\u001b[0m\u001b[0m\n\u001b[0m\u001b[1;32m      9\u001b[0m )\n\u001b[1;32m     10\u001b[0m \u001b[0;34m\u001b[0m\u001b[0m\n",
            "\u001b[0;31mNameError\u001b[0m: name 'base_path' is not defined"
          ]
        }
      ],
      "source": [
        "from langchain.agents import create_agent, AgentState\n",
        "from langgraph.checkpoint.sqlite import SqliteSaver\n",
        "import sqlite3\n",
        "\n",
        "# 1. 대화 기록을 저장할 DB(database.db)와 연결하는 Checkpointer 생성\n",
        "# (check_same_thread=False는 sqlite가 여러 스레드에서 접근 가능하도록 허용하는 설정)\n",
        "checkpointer = SqliteSaver(\n",
        "    sqlite3.connect(base_path + \"database.db\", check_same_thread=False)\n",
        ")\n",
        "\n",
        "# 2. (선택) Agent가 'messages' 외에 추가로 기억할 상태 정의\n",
        "# class CustomAgentState(AgentState):\n",
        "#     user_id: str # 예: 사용자 ID\n",
        "#     preferences: dict # 예: 사용자 선호도\n",
        "\n",
        "# 3. Agent를 다시 생성하되, 'checkpointer' 옵션을 추가\n",
        "agent_with_memory = create_agent(\n",
        "    model=llm,\n",
        "    tools=agent_tools,\n",
        "    system_prompt=system_prompt,\n",
        "    # state_schema=CustomAgentState, # (만약 CustomAgentState를 쓴다면)\n",
        "    checkpointer=checkpointer # (중요!) Agent에 메모리 시스템 장착\n",
        ")\n",
        "print(\"메모리가 적용된 Agent 생성 완료\")"
      ]
    },
    {
      "cell_type": "markdown",
      "id": "47211588",
      "metadata": {
        "id": "47211588"
      },
      "source": [
        "#### E-2-2. RunnableConfig 설정 (대화 ID 지정)\n",
        "- Agent에게 \"이 대화는 몇 번 방(Thread)에 저장해 줘\"라고 알려줘야 합니다.\n",
        "\n",
        "- `RunnableConfig`의 `{\"configurable\": {\"thread_id\": \"...\"}}`가 이 역할을 합니다.\n",
        "\n",
        "- **동일한 `thread_id`** 를 사용하는 모든 `invoke` 호출은 **같은 대화 기록**을 공유합니다."
      ]
    },
    {
      "cell_type": "code",
      "execution_count": null,
      "id": "4e3caec6",
      "metadata": {
        "id": "4e3caec6"
      },
      "outputs": [],
      "source": [
        "from langchain_core.runnables import RunnableConfig\n",
        "\n",
        "# '1번 고객'과의 대화방을 설정 (이 ID를 바꾸면 다른 대화방이 됨)\n",
        "config: RunnableConfig = {\"configurable\": {\"thread_id\": \"1\"}}"
      ]
    },
    {
      "cell_type": "markdown",
      "id": "52c33be0",
      "metadata": {
        "id": "52c33be0"
      },
      "source": [
        "#### E-2-3. 대화가 이어지는지 테스트\n",
        "- **동일한 `config`** 를 사용해서 Agent를 여러 번 호출해 봅니다."
      ]
    },
    {
      "cell_type": "code",
      "execution_count": null,
      "id": "5d3205a0",
      "metadata": {
        "id": "5d3205a0"
      },
      "outputs": [],
      "source": [
        "# 첫 번째 질문\n",
        "# (Agent는 이 질문과 답변을 config의 'thread_id': '1'에 저장합니다)\n",
        "print(\"--- User (Query 1) ---\")\n",
        "result1 = agent_with_memory.invoke(\n",
        "    {\"messages\": [{\"role\": \"user\", \"content\": '배송 조회 하려면 뭐가 필요해?'}]},\n",
        "    config\n",
        ")\n",
        "result1['messages'][-1].pretty_print()"
      ]
    },
    {
      "cell_type": "code",
      "execution_count": null,
      "id": "53e15ab5",
      "metadata": {
        "id": "53e15ab5"
      },
      "outputs": [],
      "source": [
        "# 두 번째 질문 (이전 대화를 기억해야 함)\n",
        "# Agent는 'thread_id': '1'에서 이전 대화(\"주문 ID가 필요합니다\")를 로드합니다.\n",
        "# 그리고 \"ORDER456\"이 그 주문 ID임을 '맥락(Context)' 속에서 이해합니다.\n",
        "print(\"\\n--- User (Query 2) ---\")\n",
        "result2 = agent_with_memory.invoke(\n",
        "    {\"messages\": [{\"role\": \"user\", \"content\": '주문 ID ORDER456 이래'}]},\n",
        "    config\n",
        ")\n",
        "result2['messages'][-1].pretty_print()"
      ]
    },
    {
      "cell_type": "code",
      "execution_count": null,
      "id": "65fae424",
      "metadata": {
        "id": "65fae424"
      },
      "outputs": [],
      "source": [
        "# 세 번째 질문 (방금 전 맥락을 기억해야 함)\n",
        "# Agent는 'thread_id': '1'에서 방금 쿠폰을 발급한 사실을 기억합니다.\n",
        "# \"왜 주는지\" 묻자, 메모리를 뒤져보고 \"Shipping Delayed\" 때문임을 인지한 뒤,\n",
        "# 'Policy_Search' 도구를 호출하여 '배송 지연 정책'을 찾아 답변합니다.\n",
        "print(\"\\n--- User (Query 3) ---\")\n",
        "result3 = agent_with_memory.invoke(\n",
        "    {\"messages\": [{\"role\": \"user\", \"content\": '뭐야 쿠폰 왜 주는거야?'}]},\n",
        "    config\n",
        ")\n",
        "result3['messages'][-1].pretty_print()"
      ]
    },
    {
      "cell_type": "code",
      "execution_count": null,
      "id": "db181529",
      "metadata": {
        "id": "db181529"
      },
      "outputs": [],
      "source": [
        "# (참고) 'thread_id' = '1'에 저장된 전체 대화 기록 확인\n",
        "# checkpointer에 저장된 모든 대화 내용을 볼 수 있습니다.\n",
        "print(\"\\n--- 'thread_id=1'의 전체 대화 기록 ---\")\n",
        "history = checkpointer.get(config)\n",
        "for message in history['channel_values']['messages']:\n",
        "    message.pretty_print()"
      ]
    }
  ],
  "metadata": {
    "kernelspec": {
      "display_name": "Python 3",
      "name": "python3"
    },
    "language_info": {
      "codemirror_mode": {
        "name": "ipython",
        "version": 3
      },
      "file_extension": ".py",
      "mimetype": "text/x-python",
      "name": "python",
      "nbconvert_exporter": "python",
      "pygments_lexer": "ipython3",
      "version": "3.11.9"
    },
    "colab": {
      "provenance": [],
      "gpuType": "T4"
    },
    "accelerator": "GPU"
  },
  "nbformat": 4,
  "nbformat_minor": 5
}