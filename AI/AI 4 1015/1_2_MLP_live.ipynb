{
  "nbformat": 4,
  "nbformat_minor": 0,
  "metadata": {
    "colab": {
      "provenance": []
    },
    "kernelspec": {
      "name": "python3",
      "display_name": "Python 3"
    },
    "language_info": {
      "name": "python"
    }
  },
  "cells": [
    {
      "cell_type": "code",
      "execution_count": 51,
      "metadata": {
        "colab": {
          "base_uri": "https://localhost:8080/"
        },
        "id": "ZfpRinz3fKpg",
        "outputId": "0fbd6a23-5fc2-43e6-d1f4-9279074aa4bc"
      },
      "outputs": [
        {
          "output_type": "stream",
          "name": "stdout",
          "text": [
            "tensor([[0.4626, 0.3058, 0.5229],\n",
            "        [0.3458, 0.1085, 0.4369],\n",
            "        [0.1230, 0.2998, 0.1680]])\n",
            "tensor([[0.4626, 0.3458, 0.1230],\n",
            "        [0.3058, 0.1085, 0.2998],\n",
            "        [0.5229, 0.4369, 0.1680]])\n",
            "tensor([[1., 1., 1.],\n",
            "        [1., 1., 1.],\n",
            "        [1., 1., 1.]])\n",
            "tensor([[1.2914, 1.2914, 1.2914],\n",
            "        [0.8912, 0.8912, 0.8912],\n",
            "        [0.5908, 0.5908, 0.5908]])\n"
          ]
        }
      ],
      "source": [
        "# PyTorch\n",
        "import torch\n",
        "\n",
        "# Tensor : ML에 도움이 되는 여러 메서드가 있는 자료구조\n",
        "\"\"\"\n",
        "torch의 텐서\n",
        "\"\"\"\n",
        "x = torch.rand(3, 3)\n",
        "y = torch.ones(3, 3)\n",
        "print(x)\n",
        "print(x.T)\n",
        "print(y)\n",
        "print(x @ y)\n",
        "\n",
        "\n"
      ]
    },
    {
      "cell_type": "code",
      "source": [
        "\"\"\"\n",
        "역전파: backward\n",
        "\"\"\"\n",
        "x = torch.tensor([2.0, 3.0], requires_grad=True)\n",
        "y = x ** 2 + 3 * x + 1\n",
        "z = y.sum()\n",
        "# backpropagation\n",
        "z.backward()\n",
        "# 역전파된 기울기는 .grad에서 확인 가능\n",
        "print(x.grad)"
      ],
      "metadata": {
        "colab": {
          "base_uri": "https://localhost:8080/"
        },
        "id": "Owmu_4x2hviY",
        "outputId": "5c99328d-fd2d-42ef-a02d-e244caf76cc4"
      },
      "execution_count": 52,
      "outputs": [
        {
          "output_type": "stream",
          "name": "stdout",
          "text": [
            "tensor([7., 9.])\n"
          ]
        }
      ]
    },
    {
      "cell_type": "code",
      "source": [
        "# 장치 관리\n",
        "device = 'cpu'\n",
        "# cpu : 복잡한 명령\n",
        "# gpu : 동시다발적 단순 명령 을 수행\n",
        "# windows - cuda\n",
        "if torch.cuda.is_available():\n",
        "    device = torch.device('cuda')\n",
        "# apple silicon - mps\n",
        "if torch.mps.is_available():\n",
        "    device = torch.device('mps')\n",
        "print(device)\n",
        "\n",
        "# x.to(device)"
      ],
      "metadata": {
        "colab": {
          "base_uri": "https://localhost:8080/"
        },
        "id": "Cy7NwDzsjCS1",
        "outputId": "36e757a7-88b9-4403-e0f2-1251e2b971d6"
      },
      "execution_count": 53,
      "outputs": [
        {
          "output_type": "stream",
          "name": "stdout",
          "text": [
            "cpu\n"
          ]
        }
      ]
    },
    {
      "cell_type": "code",
      "source": [
        "# 난수 고정\n",
        "import numpy as np\n",
        "import random\n",
        "SEED = 42\n",
        "torch.manual_seed(SEED)\n",
        "np.random.seed(SEED)\n",
        "random.seed(SEED)\n",
        "\n",
        "# windows - cuda\n",
        "if torch.cuda.is_available():\n",
        "    torch.cuda.manual_seed(SEED)\n",
        "    torch.backends.cudnn.deterministic = True\n",
        "    torch.backends.cudnn.benchmark = False\n",
        "\n",
        "# apple silicon - mps\n",
        "if torch.mps.is_available():\n",
        "    torch.mps.manual_seed(SEED)\n",
        "    torch.use_deterministic_algorithms(True, warn_only=True)"
      ],
      "metadata": {
        "id": "gQAafKHukgFG"
      },
      "execution_count": 54,
      "outputs": []
    },
    {
      "cell_type": "code",
      "source": [
        "\"\"\"\n",
        "선형회귀모델을 PyTorch로 구현\n",
        "\"\"\"\n",
        "\n",
        "from torch import nn\n",
        "from torch import optim"
      ],
      "metadata": {
        "id": "7m8AuQSBlvrc"
      },
      "execution_count": 55,
      "outputs": []
    },
    {
      "cell_type": "code",
      "source": [
        "# 더미 데이터\n",
        "X = torch.linspace(0, 10, 100).unsqueeze(1)\n",
        "# 2*X + 1의 회귀 모델의 구현을 목표로 하는 라벨\n",
        "y_true = 2 * X + 1 + 0.5 * torch.randn_like(X)\n",
        "\n",
        "# 1차원 입력, 1차원 출력의 선형 모델을 만들것이다\n",
        "model = nn.Linear(1, 1)\n",
        "# 비용 함수는 MSE를 쓸거다\n",
        "criterion = nn.MSELoss()\n",
        "# SGD로 파라미터를 갱신할거다\n",
        "optimizer = optim.SGD(model.parameters(), lr=0.01)\n",
        "\n",
        "# 학습 시작\n",
        "epochs = 200\n",
        "for epoch in range(epochs):\n",
        "  # 기울기 초기화\n",
        "  optimizer.zero_grad()\n",
        "\n",
        "  # 예측\n",
        "  y_pred = model(X)\n",
        "  # 손실 계산\n",
        "  loss = criterion(y_pred, y_true)\n",
        "  # 비용의 미분 계산\n",
        "  loss.backward()\n",
        "  # 매개변수 업뎃\n",
        "  optimizer.step()\n",
        "  # 20번의 학습마다 기록\n",
        "  if (epoch + 1) % 20 == 0:\n",
        "      print(f'Epoch [{epoch+1}/{epochs}], Loss: {loss.item():.4f}')\n",
        "\n",
        "print('학습된 가중치 + 편향')\n",
        "for name, param in model.named_parameters():\n",
        "    print(f'{name}: {param.data}')"
      ],
      "metadata": {
        "colab": {
          "base_uri": "https://localhost:8080/"
        },
        "id": "xLcIfV5PlDnz",
        "outputId": "da57b910-ef56-4a62-b25b-7da91d161cf9"
      },
      "execution_count": 56,
      "outputs": [
        {
          "output_type": "stream",
          "name": "stdout",
          "text": [
            "Epoch [20/200], Loss: 0.7862\n",
            "Epoch [40/200], Loss: 0.6877\n",
            "Epoch [60/200], Loss: 0.6071\n",
            "Epoch [80/200], Loss: 0.5409\n",
            "Epoch [100/200], Loss: 0.4867\n",
            "Epoch [120/200], Loss: 0.4423\n",
            "Epoch [140/200], Loss: 0.4060\n",
            "Epoch [160/200], Loss: 0.3761\n",
            "Epoch [180/200], Loss: 0.3517\n",
            "Epoch [200/200], Loss: 0.3317\n",
            "학습된 가중치 + 편향\n",
            "weight: tensor([[2.0866]])\n",
            "bias: tensor([0.4490])\n"
          ]
        }
      ]
    },
    {
      "cell_type": "code",
      "source": [
        "# 실제 데이터와 회귀선 비교\n",
        "def show_data():\n",
        "    X_np = X.squeeze().numpy()\n",
        "    y_true_np = y_true.squeeze().numpy()\n",
        "    w_learned = model.weight.item()\n",
        "    b_learned = model.bias.item()\n",
        "    print(w_learned, b_learned)\n",
        "    y_line_np = w_learned * X_np + b_learned\n",
        "\n",
        "    import matplotlib.pyplot as plt\n",
        "    plt.figure(figsize=(8, 6))\n",
        "    plt.scatter(X_np, y_true_np, s=20, color='b', alpha=0.6, label='Synthetic Data')\n",
        "    plt.plot(X_np, y_line_np, color='red', linewidth=2, label=f'Learned Model')\n",
        "\n",
        "    plt.title('Dummy Data')\n",
        "    plt.xlabel('X (Feature)')\n",
        "    plt.ylabel('y_true (Label)')\n",
        "    plt.legend()\n",
        "    plt.grid(True, linestyle='--', alpha=0.7)\n",
        "    plt.show()\n",
        "show_data()"
      ],
      "metadata": {
        "colab": {
          "base_uri": "https://localhost:8080/",
          "height": 582
        },
        "id": "HNL6q_NtoVsi",
        "outputId": "cec3f59f-d1cc-42af-c104-f1e938543119"
      },
      "execution_count": 57,
      "outputs": [
        {
          "output_type": "stream",
          "name": "stdout",
          "text": [
            "2.0866057872772217 0.4490278363227844\n"
          ]
        },
        {
          "output_type": "display_data",
          "data": {
            "text/plain": [
              "<Figure size 800x600 with 1 Axes>"
            ],
            "image/png": "[encoded data removed]"
          },
          "metadata": {}
        }
      ]
    },
    {
      "cell_type": "code",
      "source": [
        "\"\"\"\n",
        "입력 - 은닉 - 출력 구조의 MLP 만들기\n",
        "\"\"\"\n",
        "import torch\n",
        "from torch import nn\n",
        "\n",
        "# 어떤 계층을 넣을지를 결정해서 층 구조를 class로 정의\n",
        "\n",
        "class SImpleMLP(nn.Module):   # __call__ 참조\n",
        "    def __init__(self, input_dim, hidden_dim, output_dim):\n",
        "        super().__init__()\n",
        "\n",
        "        self.fc1 = nn.Linear(input_dim, hidden_dim)\n",
        "        self.relu = nn.ReLU()   # 비선형을 넣기 위해 0미만이면 0으로 이상이면 1로 구분하는?\n",
        "        self.fc2 = nn.Linear(hidden_dim, output_dim)\n",
        "\n",
        "    # nn.Module()의 __call__이 호출될 때 자동으로 호출\n",
        "    def forward(self, x):\n",
        "        # 각 층을 순차적으로 호출\n",
        "        x = self.fc1(x)\n",
        "        x = self.relu(x)\n",
        "        x = self.fc2(x)\n",
        "        return x\n",
        "\n",
        "class SequetialMLP(nn.Module):\n",
        "    def __init__(self, input_dim, hidden_dim, output_dim):\n",
        "        super().__init__()\n",
        "\n",
        "        # 각 층을 순차적으로 쌓는다\n",
        "        self.layers = nn.Sequential(\n",
        "            nn.Linear(input_dim, hidden_dim),\n",
        "            nn.ReLU(),\n",
        "            nn.Linear(hidden_dim, output_dim)\n",
        "        )\n",
        "\n",
        "    def forward(self, x):\n",
        "        return self.layers(x)\n",
        "\n",
        "model = SImpleMLP(20, 10, 1)\n",
        "# 20개의 feature를 가진 40개의 데이터\n",
        "X = torch.ones(size=(40, 20))\n",
        "# 모델을 이용해 예측하기\n",
        "y_pred = model(X)\n",
        "# 40개의 데이터에 대한 예측 출력 1개씩 40줄\n",
        "print(y_pred.size())\n",
        "y_pred\n"
      ],
      "metadata": {
        "colab": {
          "base_uri": "https://localhost:8080/"
        },
        "id": "hFlFL15GodsR",
        "outputId": "8fa96b44-a6db-46cd-d4a8-096c3a433113"
      },
      "execution_count": 58,
      "outputs": [
        {
          "output_type": "stream",
          "name": "stdout",
          "text": [
            "torch.Size([40, 1])\n"
          ]
        },
        {
          "output_type": "execute_result",
          "data": {
            "text/plain": [
              "tensor([[-0.2150],\n",
              "        [-0.2150],\n",
              "        [-0.2150],\n",
              "        [-0.2150],\n",
              "        [-0.2150],\n",
              "        [-0.2150],\n",
              "        [-0.2150],\n",
              "        [-0.2150],\n",
              "        [-0.2150],\n",
              "        [-0.2150],\n",
              "        [-0.2150],\n",
              "        [-0.2150],\n",
              "        [-0.2150],\n",
              "        [-0.2150],\n",
              "        [-0.2150],\n",
              "        [-0.2150],\n",
              "        [-0.2150],\n",
              "        [-0.2150],\n",
              "        [-0.2150],\n",
              "        [-0.2150],\n",
              "        [-0.2150],\n",
              "        [-0.2150],\n",
              "        [-0.2150],\n",
              "        [-0.2150],\n",
              "        [-0.2150],\n",
              "        [-0.2150],\n",
              "        [-0.2150],\n",
              "        [-0.2150],\n",
              "        [-0.2150],\n",
              "        [-0.2150],\n",
              "        [-0.2150],\n",
              "        [-0.2150],\n",
              "        [-0.2150],\n",
              "        [-0.2150],\n",
              "        [-0.2150],\n",
              "        [-0.2150],\n",
              "        [-0.2150],\n",
              "        [-0.2150],\n",
              "        [-0.2150],\n",
              "        [-0.2150]], grad_fn=<AddmmBackward0>)"
            ]
          },
          "metadata": {},
          "execution_count": 58
        }
      ]
    },
    {
      "cell_type": "code",
      "source": [
        "import matplotlib.pyplot as plt\n",
        "from sklearn.datasets import load_digits\n",
        "\n",
        "digits = load_digits()\n",
        "X = digits.data.astype(np.float32)\n",
        "y = digits.target.astype(np.int64)\n",
        "\n",
        "fig, ax = plt.subplots(figsize=(13, 5), nrows=2, ncols=5)\n",
        "for i in range(10):\n",
        "    ax[i // 5, i % 5].imshow(X[i].reshape(8, 8), cmap=\"gray\")\n",
        "    ax[i // 5, i % 5].set_title(f\"Label: {y[i]}\")\n",
        "    ax[i // 5, i % 5].axis(\"off\")\n",
        "fig.tight_layout()"
      ],
      "metadata": {
        "colab": {
          "base_uri": "https://localhost:8080/",
          "height": 443
        },
        "id": "eHVW7bttrInQ",
        "outputId": "87d70369-6b52-4bdd-8db7-6c0d8981744c"
      },
      "execution_count": 59,
      "outputs": [
        {
          "output_type": "display_data",
          "data": {
            "text/plain": [
              "<Figure size 1300x500 with 10 Axes>"
            ],
            "image/png": "[encoded data removed]"
          },
          "metadata": {}
        }
      ]
    },
    {
      "cell_type": "code",
      "source": [
        "from sklearn.model_selection import train_test_split\n",
        "X_train, X_temp, y_train, y_temp = train_test_split(\n",
        "    X, y, test_size=0.2, random_state=SEED, stratify=y\n",
        ")\n",
        "\n",
        "# 남은 2를\n",
        "X_valid, X_test, y_valid, y_test = train_test_split(\n",
        "    X_temp, y_temp, test_size=0.5, random_state=SEED, stratify=y_temp\n",
        ")\n",
        "\n",
        "# 표준화\n",
        "from sklearn.preprocessing import StandardScaler\n",
        "scaler = StandardScaler().fit(X_train)\n",
        "X_train = scaler.fit_transform(X_train)\n",
        "X_valid = scaler.transform(X_valid)\n",
        "X_test = scaler.transform(X_test)\n",
        "\n",
        "# 모든 데이터를 텐서로 변환해주세요\n",
        "X_train_t = torch.from_numpy(X_train)\n",
        "y_train_t = torch.from_numpy(y_train)\n",
        "X_valid_t = torch.from_numpy(X_valid)\n",
        "y_valid_t = torch.from_numpy(y_valid)\n",
        "X_test_t = torch.from_numpy(X_test)\n",
        "y_test_t = torch.from_numpy(y_test)\n",
        "\n",
        "# PyTorch TensorDataset에 넣어주세요\n",
        "\n",
        "# 하나의 데이터의 기준\n",
        "# - TensorDataset : index를 기준으로 하나의 샘플 데이터를 구분\n",
        "from torch.utils.data import TensorDataset\n",
        "train_ds = TensorDataset(X_train_t, y_train_t)\n",
        "valid_ds = TensorDataset(X_valid_t, y_valid_t)\n",
        "test_ds = TensorDataset(X_test_t, y_test_t)\n",
        "\n",
        "# 아래 설정해준 BATCH_SIZE를 활용해주세요\n",
        "from torch.utils.data import DataLoader\n",
        "BATCH_SIZE = 32\n",
        "\n",
        "train_loader = DataLoader(train_ds, batch_size=BATCH_SIZE, shuffle=True)\n",
        "valid_loader = DataLoader(valid_ds, batch_size=BATCH_SIZE, shuffle=False)\n",
        "test_loader = DataLoader(test_ds, batch_size=BATCH_SIZE, shuffle=False)"
      ],
      "metadata": {
        "id": "gnHr0Le-E46J"
      },
      "execution_count": 60,
      "outputs": []
    },
    {
      "cell_type": "code",
      "source": [
        "for idx, batch in enumerate(train_loader):\n",
        "    print(idx, batch)\n",
        "    print(len(batch[1]))\n",
        "    break"
      ],
      "metadata": {
        "colab": {
          "base_uri": "https://localhost:8080/"
        },
        "id": "OMbXprH6GbjD",
        "outputId": "212cbb00-04b2-4438-a94b-1227a921fa22"
      },
      "execution_count": 61,
      "outputs": [
        {
          "output_type": "stream",
          "name": "stdout",
          "text": [
            "0 [tensor([[ 0.0000,  0.7537,  1.4500,  ...,  1.5538,  1.4530, -0.1936],\n",
            "        [ 0.0000, -0.3305,  0.3895,  ..., -1.1588, -0.5045, -0.1936],\n",
            "        [ 0.0000, -0.3305, -1.0952,  ...,  0.8757, -0.0152, -0.1936],\n",
            "        ...,\n",
            "        [ 0.0000,  0.7537,  0.1774,  ...,  0.1975, -0.5045, -0.1936],\n",
            "        [ 0.0000, -0.3305, -0.2468,  ...,  1.5538,  3.1659,  4.4432],\n",
            "        [ 0.0000, -0.3305, -1.0952,  ...,  1.3843,  0.7189, -0.1936]]), tensor([9, 0, 1, 1, 0, 7, 6, 4, 3, 5, 9, 5, 9, 5, 3, 6, 2, 1, 2, 6, 1, 3, 6, 3,\n",
            "        0, 2, 0, 4, 3, 3, 1, 6])]\n",
            "32\n"
          ]
        }
      ]
    },
    {
      "cell_type": "code",
      "source": [
        "class MLP(nn.Module):\n",
        "    def __init__(self,\n",
        "                 input_dim: int,\n",
        "                 num_classes: int,\n",
        "                 hidden_dims=(128, 64),\n",
        "                 dropout=0.2):\n",
        "        super().__init__()\n",
        "        h1, h2 = hidden_dims\n",
        "\n",
        "        self.net = nn.Sequential(\n",
        "            # 은닉1\n",
        "            nn.Linear(input_dim, h1),\n",
        "            # 활성화 + Dropout\n",
        "            nn.ReLU(),\n",
        "            nn.Dropout(p=dropout),\n",
        "            # 은닉2 (입력 차원은 은닉1의 출력차원)\n",
        "            nn.Linear(h1, h2),\n",
        "            # 활성화 + Dropout\n",
        "            nn.ReLU(),\n",
        "            nn.Dropout(p=dropout),\n",
        "            # 출력\n",
        "            nn.Linear(h2, num_classes),\n",
        "        )\n",
        "\n",
        "    def forward(self, x):\n",
        "        return self.net(x)"
      ],
      "metadata": {
        "id": "Pp428iGgILzY"
      },
      "execution_count": 62,
      "outputs": []
    },
    {
      "cell_type": "code",
      "source": [
        "# 정답코드\n",
        "# 4. DataLoader, Model, Optimizer가 주어졌을 때\n",
        "# 학습데이터에 대해 model을 업데이트하는 코드를 작성해주세요.\n",
        "def train_one_epoch(model, loader, optimizer, device):\n",
        "    # 모델이 학습모드로 들어가게 설정해야합니다.\n",
        "    model.train()\n",
        "    running_loss = 0.0\n",
        "    correct = 0\n",
        "    total = 0\n",
        "    for xb, yb in loader:\n",
        "        # 데이터를 가속화기기로 보내주세요.\n",
        "        xb, yb = xb.to(device), yb.to(device)\n",
        "\n",
        "        # 위에서 배운 파라미터 업데이트 방식을 구현해주세요.\n",
        "        # 1. 모델의 출력 만들어주기\n",
        "        # 2. 미분값 지워주기 (zero_grad)\n",
        "        # 3. Loss 계산해주기: loss는 cross_entropy를 사용해주세요\n",
        "        #   - https://docs.pytorch.org/docs/stable/generated/torch.nn.functional.cross_entropy.html\n",
        "        # 4. 3에서 계산한 Loss를 기준으로 역전파를 수행합니다.\n",
        "        # 5. 파라미터 업데이트를 진행해주세요\n",
        "        optimizer.zero_grad()\n",
        "        logits = model(xb)\n",
        "        loss = torch.nn.functional.cross_entropy(logits, yb)\n",
        "        loss.backward()\n",
        "        optimizer.step()\n",
        "\n",
        "        # 파라미터 업데이트가 끝났으면 몇 가지를 기록해줍니다.\n",
        "        # 1. batch당 로스 계산 (running_loss에 업데이트)\n",
        "        # 2. 예측된 클래스 계산 (`preds`)\n",
        "        # 3. batch 내 정확도 계산 (batch 내에서 정답개수를 correct에 추가)\n",
        "        running_loss += loss.item() * xb.size(0)\n",
        "        preds = logits.argmax(dim=1)\n",
        "        correct += (preds == yb).sum().item()\n",
        "        total += yb.size(0)\n",
        "\n",
        "    # 위에서 잘 계산된 값들을 정리해서 반환합니다.\n",
        "    avg_loss = running_loss / total\n",
        "    acc = correct / total\n",
        "    return avg_loss, acc\n",
        "\n",
        "# 정답코드\n",
        "# 5. 이번에는 모델과 검증/테스트데이터가 입력으로 들어왔을 때 정확도를 계산해주는 코드를 작성해주세요.\n",
        "def evaluate(model, loader, device):\n",
        "    # 모델이 추론할 때는 추론모드로 설정해주어야합니다.\n",
        "    model.eval()\n",
        "    running_loss = 0.0\n",
        "    correct = 0\n",
        "    total = 0\n",
        "    all_preds = []\n",
        "    all_targets = []\n",
        "\n",
        "    # 미분그래프를 생성하지 않도록 컨텍스트를 생성해주셔야합니다.\n",
        "    with torch.no_grad():\n",
        "        for xb, yb in loader:\n",
        "            # 데이터로더에서 나온 배치를 `device`로 보내주세요.\n",
        "            xb, yb = xb.to(device), yb.to(device)\n",
        "\n",
        "            # 위에서 한 것과 비슷하게\n",
        "            # 모델의 출력값을 만들어 `logits`에 담고\n",
        "            # 현재 출력값 `logits`와 `yb` 사이의 Cross Entropy를 계산해주세요.\n",
        "            logits = model(xb)\n",
        "            loss = torch.nn.functional.cross_entropy(logits, yb)\n",
        "\n",
        "            # 이번에도 다음을 기록해줍니다.\n",
        "            # 1. batch당 로스 계산 (running_loss에 update)\n",
        "            # 2. 예측된 클래스 계산 (`preds`)\n",
        "            # 3. batch 내 정확도 계산 (batch 내에서 정답개수를 correct에 추가)\n",
        "            # 4. 후에 정확한 분류성능을 보기 위해 prediction 값들도 전부 기록해줍니다.\n",
        "            #  - all_preds, all_targets에 append해줍니다.\n",
        "            running_loss += loss.item() * xb.size(0)\n",
        "            preds = logits.argmax(dim=1)\n",
        "            correct += (preds == yb).sum().item()\n",
        "            total += yb.size(0)\n",
        "\n",
        "            all_preds.append(preds.cpu())\n",
        "            all_targets.append(yb.cpu())\n",
        "\n",
        "    # 위에서 잘 계산된 값들을 정리해서 반환합니다.\n",
        "    avg_loss = running_loss / total\n",
        "    acc = correct / total\n",
        "    preds_cat = torch.cat(all_preds).numpy()\n",
        "    targets_cat = torch.cat(all_targets).numpy()\n",
        "    return avg_loss, acc, preds_cat, targets_cat"
      ],
      "metadata": {
        "id": "ibRlS__LKcjt"
      },
      "execution_count": 63,
      "outputs": []
    },
    {
      "cell_type": "code",
      "source": [
        "# 모든 것을 하나로!\n",
        "# 여러분이 코드를 잘 짰다면 아래 코드가 잘 작동할겁니다!\n",
        "# 에러가 뜬다면 에러메시지를 확인해서 잘 구현되도록 맞춰주세요.\n",
        "import os\n",
        "import math\n",
        "import time\n",
        "\n",
        "from sklearn.metrics import classification_report, confusion_matrix\n",
        "\n",
        "# device = torch.device(\"cuda\")\n",
        "model = MLP(\n",
        "    input_dim=64,\n",
        "    num_classes=10,\n",
        "    hidden_dims=(128, 64),\n",
        "    dropout=0.2\n",
        ").to(device)\n",
        "\n",
        "# 이번에는 지난 과제2에서 배웠던 Adam을 사용해봅시다.\n",
        "optimizer = torch.optim.Adam(model.parameters(), lr=1e-3, weight_decay=1e-4)\n",
        "\n",
        "best_val_loss = math.inf\n",
        "best_val_acc = -1.0\n",
        "epochs_no_improve = 0\n",
        "\n",
        "checkpoint_path = \"model.ckpt\"\n",
        "earlystop_patience = 5\n",
        "\n",
        "train_losses, train_accs = [], []\n",
        "valid_losses, valid_accs = [], []\n",
        "for epoch in range(1, 201):\n",
        "    t0 = time.time()\n",
        "    # 여러분이 정의한 `train_one_epoch`와 `evaluate`입니다.\n",
        "    train_loss, train_acc = train_one_epoch(model, train_loader, optimizer, device)\n",
        "    train_losses.append(train_loss)\n",
        "    train_accs.append(train_acc)\n",
        "\n",
        "    val_loss, val_acc, _, _ = evaluate(model, valid_loader, device)\n",
        "    valid_losses.append(val_loss)\n",
        "    valid_accs.append(val_acc)\n",
        "\n",
        "    dt = time.time() - t0\n",
        "    print(\n",
        "        f\"Epoch {epoch:03d} | \"\n",
        "        f\"train loss {train_loss:.4f} acc {train_acc*100:5.2f}% | \"\n",
        "        f\"val loss {val_loss:.4f} acc {val_acc*100:5.2f}% | \"\n",
        "        f\"{dt:.1f}s\"\n",
        "    )\n",
        "\n",
        "    # 🌟 개선 시 체크포인트 저장\n",
        "    improved = (val_loss < best_val_loss) or (val_acc > best_val_acc)\n",
        "    if improved:\n",
        "        best_val_loss = min(best_val_loss, val_loss)\n",
        "        best_val_acc = max(best_val_acc, val_acc)\n",
        "        torch.save({\n",
        "            'model_state_dict': model.state_dict(),\n",
        "            'input_dim': 64,\n",
        "            'num_classes': 10,\n",
        "        }, checkpoint_path)\n",
        "        epochs_no_improve = 0\n",
        "    else:\n",
        "        epochs_no_improve += 1\n",
        "\n",
        "    # 조기 종료\n",
        "    if epochs_no_improve >= earlystop_patience:\n",
        "        print(f\"Early stopping at epoch {epoch} (no improve {earlystop_patience})\")\n",
        "        break\n",
        "\n",
        "# 베스트 모델 로드 후 테스트 평가\n",
        "if os.path.exists(checkpoint_path):\n",
        "    ckpt = torch.load(checkpoint_path, map_location=device)\n",
        "    model.load_state_dict(ckpt['model_state_dict'])\n",
        "    print(f\"Loaded best checkpoint: val_best_acc={best_val_acc*100:.2f}% val_best_loss={best_val_loss:.4f}\")\n",
        "\n",
        "test_loss, test_acc, y_pred, y_true = evaluate(model, test_loader, device)\n",
        "print(\"\\n==== Test Result ====\")\n",
        "print(f\"Test loss: {test_loss:.4f}\")\n",
        "print(f\"Test acc : {test_acc*100:.2f}%\")\n",
        "\n",
        "# 분류 리포트 / 혼동행렬\n",
        "print(\"\\nClassification report:\")\n",
        "print(classification_report(y_true, y_pred, digits=4))\n",
        "\n",
        "print(\"Confusion matrix:\")\n",
        "print(confusion_matrix(y_true, y_pred))"
      ],
      "metadata": {
        "colab": {
          "base_uri": "https://localhost:8080/"
        },
        "id": "2k4Go9JkLSlE",
        "outputId": "339416fe-ed7c-4ea8-bac7-80383ed5b3de"
      },
      "execution_count": 64,
      "outputs": [
        {
          "output_type": "stream",
          "name": "stdout",
          "text": [
            "Epoch 001 | train loss 1.9191 acc 49.83% | val loss 1.3070 acc 72.78% | 0.2s\n",
            "Epoch 002 | train loss 0.8077 acc 82.74% | val loss 0.4188 acc 90.56% | 0.1s\n",
            "Epoch 003 | train loss 0.3364 acc 91.51% | val loss 0.2123 acc 93.89% | 0.1s\n",
            "Epoch 004 | train loss 0.2106 acc 94.92% | val loss 0.1525 acc 96.11% | 0.1s\n",
            "Epoch 005 | train loss 0.1553 acc 96.03% | val loss 0.1426 acc 95.00% | 0.1s\n",
            "Epoch 006 | train loss 0.1166 acc 96.94% | val loss 0.1438 acc 93.89% | 0.1s\n",
            "Epoch 007 | train loss 0.1056 acc 97.36% | val loss 0.1051 acc 96.67% | 0.1s\n",
            "Epoch 008 | train loss 0.0810 acc 98.19% | val loss 0.0912 acc 97.78% | 0.1s\n",
            "Epoch 009 | train loss 0.0706 acc 98.40% | val loss 0.0874 acc 96.67% | 0.1s\n",
            "Epoch 010 | train loss 0.0675 acc 98.19% | val loss 0.0873 acc 97.22% | 0.1s\n",
            "Epoch 011 | train loss 0.0532 acc 98.82% | val loss 0.0832 acc 95.56% | 0.1s\n",
            "Epoch 012 | train loss 0.0497 acc 98.47% | val loss 0.0847 acc 95.56% | 0.1s\n",
            "Epoch 013 | train loss 0.0459 acc 98.89% | val loss 0.0878 acc 97.22% | 0.1s\n",
            "Epoch 014 | train loss 0.0414 acc 98.82% | val loss 0.0856 acc 96.11% | 0.1s\n",
            "Epoch 015 | train loss 0.0407 acc 98.82% | val loss 0.0713 acc 97.78% | 0.1s\n",
            "Epoch 016 | train loss 0.0319 acc 99.37% | val loss 0.0684 acc 97.78% | 0.1s\n",
            "Epoch 017 | train loss 0.0299 acc 99.37% | val loss 0.0592 acc 98.89% | 0.1s\n",
            "Epoch 018 | train loss 0.0312 acc 99.16% | val loss 0.0809 acc 97.22% | 0.1s\n",
            "Epoch 019 | train loss 0.0232 acc 99.58% | val loss 0.0678 acc 98.89% | 0.1s\n",
            "Epoch 020 | train loss 0.0229 acc 99.44% | val loss 0.0714 acc 97.78% | 0.1s\n",
            "Epoch 021 | train loss 0.0246 acc 99.16% | val loss 0.0625 acc 97.22% | 0.1s\n",
            "Epoch 022 | train loss 0.0175 acc 99.58% | val loss 0.0775 acc 96.67% | 0.1s\n",
            "Early stopping at epoch 22 (no improve 5)\n",
            "Loaded best checkpoint: val_best_acc=98.89% val_best_loss=0.0592\n",
            "\n",
            "==== Test Result ====\n",
            "Test loss: 0.1965\n",
            "Test acc : 97.78%\n",
            "\n",
            "Classification report:\n",
            "              precision    recall  f1-score   support\n",
            "\n",
            "           0     1.0000    1.0000    1.0000        18\n",
            "           1     0.8500    0.9444    0.8947        18\n",
            "           2     1.0000    1.0000    1.0000        18\n",
            "           3     1.0000    1.0000    1.0000        18\n",
            "           4     0.9474    1.0000    0.9730        18\n",
            "           5     1.0000    1.0000    1.0000        19\n",
            "           6     1.0000    0.9444    0.9714        18\n",
            "           7     1.0000    1.0000    1.0000        18\n",
            "           8     1.0000    0.8824    0.9375        17\n",
            "           9     1.0000    1.0000    1.0000        18\n",
            "\n",
            "    accuracy                         0.9778       180\n",
            "   macro avg     0.9797    0.9771    0.9777       180\n",
            "weighted avg     0.9797    0.9778    0.9780       180\n",
            "\n",
            "Confusion matrix:\n",
            "[[18  0  0  0  0  0  0  0  0  0]\n",
            " [ 0 17  0  0  1  0  0  0  0  0]\n",
            " [ 0  0 18  0  0  0  0  0  0  0]\n",
            " [ 0  0  0 18  0  0  0  0  0  0]\n",
            " [ 0  0  0  0 18  0  0  0  0  0]\n",
            " [ 0  0  0  0  0 19  0  0  0  0]\n",
            " [ 0  1  0  0  0  0 17  0  0  0]\n",
            " [ 0  0  0  0  0  0  0 18  0  0]\n",
            " [ 0  2  0  0  0  0  0  0 15  0]\n",
            " [ 0  0  0  0  0  0  0  0  0 18]]\n"
          ]
        }
      ]
    },
    {
      "cell_type": "code",
      "source": [],
      "metadata": {
        "id": "RrR7MYroMIcK"
      },
      "execution_count": 64,
      "outputs": []
    }
  ]
}